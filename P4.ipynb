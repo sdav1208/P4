{
 "cells": [
  {
   "cell_type": "code",
   "execution_count": 3,
   "id": "5774aed7",
   "metadata": {
    "id": "5774aed7"
   },
   "outputs": [],
   "source": [
    "# charger le module pandas\n",
    "import pandas as pd\n",
    "import numpy as np\n",
    "from matplotlib import pyplot\n",
    "%matplotlib inline"
   ]
  },
  {
   "cell_type": "markdown",
   "id": "de73bf79",
   "metadata": {
    "id": "de73bf79"
   },
   "source": [
    " # Partie 1 : Importation et traitement du fichier population\n",
    "        "
   ]
  },
  {
   "cell_type": "code",
   "execution_count": 4,
   "id": "3ffde1a9",
   "metadata": {
    "id": "3ffde1a9"
   },
   "outputs": [],
   "source": [
    "population = pd.read_csv('C:\\\\Users\\\\serge\\\\OneDrive\\\\Documents\\\\Documents\\\\DATA ANALYST\\\\P4\\\\population.csv')"
   ]
  },
  {
   "cell_type": "code",
   "execution_count": 5,
   "id": "358190c7",
   "metadata": {
    "id": "358190c7",
    "outputId": "8ceeb2dc-318e-42c4-fc40-63a10f5be88f",
    "scrolled": false
   },
   "outputs": [
    {
     "data": {
      "text/html": [
       "<div>\n",
       "<style scoped>\n",
       "    .dataframe tbody tr th:only-of-type {\n",
       "        vertical-align: middle;\n",
       "    }\n",
       "\n",
       "    .dataframe tbody tr th {\n",
       "        vertical-align: top;\n",
       "    }\n",
       "\n",
       "    .dataframe thead th {\n",
       "        text-align: right;\n",
       "    }\n",
       "</style>\n",
       "<table border=\"1\" class=\"dataframe\">\n",
       "  <thead>\n",
       "    <tr style=\"text-align: right;\">\n",
       "      <th></th>\n",
       "      <th>Zone</th>\n",
       "      <th>Année</th>\n",
       "      <th>Valeur</th>\n",
       "    </tr>\n",
       "  </thead>\n",
       "  <tbody>\n",
       "    <tr>\n",
       "      <th>0</th>\n",
       "      <td>Afghanistan</td>\n",
       "      <td>2013</td>\n",
       "      <td>32269.589</td>\n",
       "    </tr>\n",
       "    <tr>\n",
       "      <th>1</th>\n",
       "      <td>Afghanistan</td>\n",
       "      <td>2014</td>\n",
       "      <td>33370.794</td>\n",
       "    </tr>\n",
       "    <tr>\n",
       "      <th>2</th>\n",
       "      <td>Afghanistan</td>\n",
       "      <td>2015</td>\n",
       "      <td>34413.603</td>\n",
       "    </tr>\n",
       "    <tr>\n",
       "      <th>3</th>\n",
       "      <td>Afghanistan</td>\n",
       "      <td>2016</td>\n",
       "      <td>35383.032</td>\n",
       "    </tr>\n",
       "    <tr>\n",
       "      <th>4</th>\n",
       "      <td>Afghanistan</td>\n",
       "      <td>2017</td>\n",
       "      <td>36296.113</td>\n",
       "    </tr>\n",
       "  </tbody>\n",
       "</table>\n",
       "</div>"
      ],
      "text/plain": [
       "          Zone  Année     Valeur\n",
       "0  Afghanistan   2013  32269.589\n",
       "1  Afghanistan   2014  33370.794\n",
       "2  Afghanistan   2015  34413.603\n",
       "3  Afghanistan   2016  35383.032\n",
       "4  Afghanistan   2017  36296.113"
      ]
     },
     "execution_count": 5,
     "metadata": {},
     "output_type": "execute_result"
    }
   ],
   "source": [
    "population.head()"
   ]
  },
  {
   "cell_type": "code",
   "execution_count": 6,
   "id": "f4cf4db5",
   "metadata": {
    "id": "f4cf4db5",
    "outputId": "d671d0c3-51d5-4d9c-de15-d91c0d07d6af"
   },
   "outputs": [
    {
     "data": {
      "text/plain": [
       "<bound method DataFrame.info of              Zone  Année     Valeur\n",
       "0     Afghanistan   2013  32269.589\n",
       "1     Afghanistan   2014  33370.794\n",
       "2     Afghanistan   2015  34413.603\n",
       "3     Afghanistan   2016  35383.032\n",
       "4     Afghanistan   2017  36296.113\n",
       "...           ...    ...        ...\n",
       "1411     Zimbabwe   2014  13586.707\n",
       "1412     Zimbabwe   2015  13814.629\n",
       "1413     Zimbabwe   2016  14030.331\n",
       "1414     Zimbabwe   2017  14236.595\n",
       "1415     Zimbabwe   2018  14438.802\n",
       "\n",
       "[1416 rows x 3 columns]>"
      ]
     },
     "execution_count": 6,
     "metadata": {},
     "output_type": "execute_result"
    }
   ],
   "source": [
    "population.info"
   ]
  },
  {
   "cell_type": "code",
   "execution_count": 7,
   "id": "85f0a334",
   "metadata": {
    "id": "85f0a334",
    "outputId": "ff03ff6c-8939-4e25-a1ee-bcd3b9fec0eb"
   },
   "outputs": [
    {
     "data": {
      "text/plain": [
       "Zone       object\n",
       "Année       int64\n",
       "Valeur    float64\n",
       "dtype: object"
      ]
     },
     "execution_count": 7,
     "metadata": {},
     "output_type": "execute_result"
    }
   ],
   "source": [
    "population.dtypes"
   ]
  },
  {
   "cell_type": "code",
   "execution_count": 8,
   "id": "2913a891",
   "metadata": {
    "id": "2913a891"
   },
   "outputs": [],
   "source": [
    "population[\"Valeur\"]= population[\"Valeur\"]*1000                       # Valeur exprimée en nombre de personnes "
   ]
  },
  {
   "cell_type": "code",
   "execution_count": 9,
   "id": "655d5af2",
   "metadata": {
    "id": "655d5af2",
    "outputId": "ff6bf50f-209c-4b7f-e1b9-56ea71f0ae5f"
   },
   "outputs": [
    {
     "data": {
      "text/html": [
       "<div>\n",
       "<style scoped>\n",
       "    .dataframe tbody tr th:only-of-type {\n",
       "        vertical-align: middle;\n",
       "    }\n",
       "\n",
       "    .dataframe tbody tr th {\n",
       "        vertical-align: top;\n",
       "    }\n",
       "\n",
       "    .dataframe thead th {\n",
       "        text-align: right;\n",
       "    }\n",
       "</style>\n",
       "<table border=\"1\" class=\"dataframe\">\n",
       "  <thead>\n",
       "    <tr style=\"text-align: right;\">\n",
       "      <th></th>\n",
       "      <th>Zone</th>\n",
       "      <th>Année</th>\n",
       "      <th>Valeur</th>\n",
       "    </tr>\n",
       "  </thead>\n",
       "  <tbody>\n",
       "    <tr>\n",
       "      <th>0</th>\n",
       "      <td>Afghanistan</td>\n",
       "      <td>2013</td>\n",
       "      <td>32269589.0</td>\n",
       "    </tr>\n",
       "    <tr>\n",
       "      <th>1</th>\n",
       "      <td>Afghanistan</td>\n",
       "      <td>2014</td>\n",
       "      <td>33370794.0</td>\n",
       "    </tr>\n",
       "    <tr>\n",
       "      <th>2</th>\n",
       "      <td>Afghanistan</td>\n",
       "      <td>2015</td>\n",
       "      <td>34413603.0</td>\n",
       "    </tr>\n",
       "    <tr>\n",
       "      <th>3</th>\n",
       "      <td>Afghanistan</td>\n",
       "      <td>2016</td>\n",
       "      <td>35383032.0</td>\n",
       "    </tr>\n",
       "    <tr>\n",
       "      <th>4</th>\n",
       "      <td>Afghanistan</td>\n",
       "      <td>2017</td>\n",
       "      <td>36296113.0</td>\n",
       "    </tr>\n",
       "  </tbody>\n",
       "</table>\n",
       "</div>"
      ],
      "text/plain": [
       "          Zone  Année      Valeur\n",
       "0  Afghanistan   2013  32269589.0\n",
       "1  Afghanistan   2014  33370794.0\n",
       "2  Afghanistan   2015  34413603.0\n",
       "3  Afghanistan   2016  35383032.0\n",
       "4  Afghanistan   2017  36296113.0"
      ]
     },
     "execution_count": 9,
     "metadata": {},
     "output_type": "execute_result"
    }
   ],
   "source": [
    "population.head()\n"
   ]
  },
  {
   "cell_type": "code",
   "execution_count": 10,
   "id": "0c3c68ec",
   "metadata": {
    "id": "0c3c68ec"
   },
   "outputs": [],
   "source": [
    "\n",
    "\n",
    "population_2017=population.loc[population['Année'] == 2017, :]   # sélectionner les données de 2017\n"
   ]
  },
  {
   "cell_type": "code",
   "execution_count": 11,
   "id": "84ff22f9",
   "metadata": {
    "id": "84ff22f9",
    "outputId": "f03d35e6-2d06-448b-9397-21c285a8b8c8"
   },
   "outputs": [
    {
     "data": {
      "text/html": [
       "<div>\n",
       "<style scoped>\n",
       "    .dataframe tbody tr th:only-of-type {\n",
       "        vertical-align: middle;\n",
       "    }\n",
       "\n",
       "    .dataframe tbody tr th {\n",
       "        vertical-align: top;\n",
       "    }\n",
       "\n",
       "    .dataframe thead th {\n",
       "        text-align: right;\n",
       "    }\n",
       "</style>\n",
       "<table border=\"1\" class=\"dataframe\">\n",
       "  <thead>\n",
       "    <tr style=\"text-align: right;\">\n",
       "      <th></th>\n",
       "      <th>Zone</th>\n",
       "      <th>Année</th>\n",
       "      <th>Valeur</th>\n",
       "    </tr>\n",
       "  </thead>\n",
       "  <tbody>\n",
       "    <tr>\n",
       "      <th>4</th>\n",
       "      <td>Afghanistan</td>\n",
       "      <td>2017</td>\n",
       "      <td>36296113.0</td>\n",
       "    </tr>\n",
       "    <tr>\n",
       "      <th>10</th>\n",
       "      <td>Afrique du Sud</td>\n",
       "      <td>2017</td>\n",
       "      <td>57009756.0</td>\n",
       "    </tr>\n",
       "    <tr>\n",
       "      <th>16</th>\n",
       "      <td>Albanie</td>\n",
       "      <td>2017</td>\n",
       "      <td>2884169.0</td>\n",
       "    </tr>\n",
       "    <tr>\n",
       "      <th>22</th>\n",
       "      <td>Algérie</td>\n",
       "      <td>2017</td>\n",
       "      <td>41389189.0</td>\n",
       "    </tr>\n",
       "    <tr>\n",
       "      <th>28</th>\n",
       "      <td>Allemagne</td>\n",
       "      <td>2017</td>\n",
       "      <td>82658409.0</td>\n",
       "    </tr>\n",
       "  </tbody>\n",
       "</table>\n",
       "</div>"
      ],
      "text/plain": [
       "              Zone  Année      Valeur\n",
       "4      Afghanistan   2017  36296113.0\n",
       "10  Afrique du Sud   2017  57009756.0\n",
       "16         Albanie   2017   2884169.0\n",
       "22         Algérie   2017  41389189.0\n",
       "28       Allemagne   2017  82658409.0"
      ]
     },
     "execution_count": 11,
     "metadata": {},
     "output_type": "execute_result"
    }
   ],
   "source": [
    "population_2017.head()"
   ]
  },
  {
   "cell_type": "markdown",
   "id": "0db98d32",
   "metadata": {
    "id": "0db98d32"
   },
   "source": [
    "# Partie 2 : Importation et traitement fichier aide_alimentaire"
   ]
  },
  {
   "cell_type": "code",
   "execution_count": 12,
   "id": "84c078e4",
   "metadata": {
    "id": "84c078e4"
   },
   "outputs": [],
   "source": [
    "aide_alimentaire = pd.read_csv('C:\\\\Users\\\\serge\\\\OneDrive\\\\Documents\\\\Documents\\\\DATA ANALYST\\\\P4\\\\aide_alimentaire.csv')"
   ]
  },
  {
   "cell_type": "code",
   "execution_count": 13,
   "id": "e89d8ad1",
   "metadata": {
    "id": "e89d8ad1",
    "outputId": "23f6bb86-5cf8-4c6a-fb01-23cd1472fa45"
   },
   "outputs": [
    {
     "data": {
      "text/html": [
       "<div>\n",
       "<style scoped>\n",
       "    .dataframe tbody tr th:only-of-type {\n",
       "        vertical-align: middle;\n",
       "    }\n",
       "\n",
       "    .dataframe tbody tr th {\n",
       "        vertical-align: top;\n",
       "    }\n",
       "\n",
       "    .dataframe thead th {\n",
       "        text-align: right;\n",
       "    }\n",
       "</style>\n",
       "<table border=\"1\" class=\"dataframe\">\n",
       "  <thead>\n",
       "    <tr style=\"text-align: right;\">\n",
       "      <th></th>\n",
       "      <th>Pays bénéficiaire</th>\n",
       "      <th>Année</th>\n",
       "      <th>Produit</th>\n",
       "      <th>Valeur</th>\n",
       "    </tr>\n",
       "  </thead>\n",
       "  <tbody>\n",
       "    <tr>\n",
       "      <th>0</th>\n",
       "      <td>Afghanistan</td>\n",
       "      <td>2013</td>\n",
       "      <td>Autres non-céréales</td>\n",
       "      <td>682</td>\n",
       "    </tr>\n",
       "    <tr>\n",
       "      <th>1</th>\n",
       "      <td>Afghanistan</td>\n",
       "      <td>2014</td>\n",
       "      <td>Autres non-céréales</td>\n",
       "      <td>335</td>\n",
       "    </tr>\n",
       "    <tr>\n",
       "      <th>2</th>\n",
       "      <td>Afghanistan</td>\n",
       "      <td>2013</td>\n",
       "      <td>Blé et Farin</td>\n",
       "      <td>39224</td>\n",
       "    </tr>\n",
       "    <tr>\n",
       "      <th>3</th>\n",
       "      <td>Afghanistan</td>\n",
       "      <td>2014</td>\n",
       "      <td>Blé et Farin</td>\n",
       "      <td>15160</td>\n",
       "    </tr>\n",
       "    <tr>\n",
       "      <th>4</th>\n",
       "      <td>Afghanistan</td>\n",
       "      <td>2013</td>\n",
       "      <td>Céréales</td>\n",
       "      <td>40504</td>\n",
       "    </tr>\n",
       "  </tbody>\n",
       "</table>\n",
       "</div>"
      ],
      "text/plain": [
       "  Pays bénéficiaire  Année              Produit  Valeur\n",
       "0       Afghanistan   2013  Autres non-céréales     682\n",
       "1       Afghanistan   2014  Autres non-céréales     335\n",
       "2       Afghanistan   2013         Blé et Farin   39224\n",
       "3       Afghanistan   2014         Blé et Farin   15160\n",
       "4       Afghanistan   2013             Céréales   40504"
      ]
     },
     "execution_count": 13,
     "metadata": {},
     "output_type": "execute_result"
    }
   ],
   "source": [
    "aide_alimentaire.head()                # le champs Pays bénéficiaire doit être renommé en Zone\n",
    "                                       # les valeurs de l'aide alimentaire sont exprimées en tonnes \n",
    "    "
   ]
  },
  {
   "cell_type": "code",
   "execution_count": 14,
   "id": "3f3151f8",
   "metadata": {
    "id": "3f3151f8",
    "outputId": "4f2384cc-a3c0-48b3-872d-ca6b71ae4c7d"
   },
   "outputs": [
    {
     "data": {
      "text/plain": [
       "Pays bénéficiaire    object\n",
       "Année                 int64\n",
       "Produit              object\n",
       "Valeur                int64\n",
       "dtype: object"
      ]
     },
     "execution_count": 14,
     "metadata": {},
     "output_type": "execute_result"
    }
   ],
   "source": [
    "aide_alimentaire.dtypes"
   ]
  },
  {
   "cell_type": "markdown",
   "id": "699fa919",
   "metadata": {
    "id": "699fa919"
   },
   "source": [
    "# Partie 3 : Importation et traitement fichier sous_nutrition"
   ]
  },
  {
   "cell_type": "code",
   "execution_count": 16,
   "id": "0b60adfa",
   "metadata": {
    "id": "0b60adfa"
   },
   "outputs": [],
   "source": [
    "sous_nutrition = pd.read_csv('C:\\\\Users\\\\serge\\\\OneDrive\\\\Documents\\\\Documents\\\\DATA ANALYST\\\\P4\\\\sous_nutrition.csv')"
   ]
  },
  {
   "cell_type": "code",
   "execution_count": 17,
   "id": "0316f1f0",
   "metadata": {
    "id": "0316f1f0",
    "outputId": "3cae4458-e04a-43a4-dd8e-33973100842a",
    "scrolled": true
   },
   "outputs": [
    {
     "data": {
      "text/plain": [
       "Zone      object\n",
       "Année     object\n",
       "Valeur    object\n",
       "dtype: object"
      ]
     },
     "execution_count": 17,
     "metadata": {},
     "output_type": "execute_result"
    }
   ],
   "source": [
    "sous_nutrition.dtypes"
   ]
  },
  {
   "cell_type": "code",
   "execution_count": 18,
   "id": "52625c3f",
   "metadata": {
    "id": "52625c3f"
   },
   "outputs": [],
   "source": [
    "sous_nutrition=sous_nutrition.dropna()   # enlever les lignes contenant nan"
   ]
  },
  {
   "cell_type": "code",
   "execution_count": 19,
   "id": "c7fb6c3c",
   "metadata": {
    "id": "c7fb6c3c"
   },
   "outputs": [],
   "source": [
    "sous_nutrition_2017=sous_nutrition.loc[sous_nutrition['Année'] == \"2016-2018\", :]  # sélectionner l'année 2017"
   ]
  },
  {
   "cell_type": "code",
   "execution_count": 20,
   "id": "da294dfb",
   "metadata": {
    "id": "da294dfb"
   },
   "outputs": [],
   "source": [
    "sous_nutrition_2017=sous_nutrition_2017.replace([\"2016-2018\"],[\"2017\"])    #  remplacer 2016-2018 par 2017\n",
    "sous_nutrition_2017=sous_nutrition_2017.replace(\"<0.1\",\"0\",regex=True)  # mise à 0 des valeurs=\"<0.1\" dans le champs Valeur\n",
    "\n"
   ]
  },
  {
   "cell_type": "code",
   "execution_count": 21,
   "id": "ddfe1da0",
   "metadata": {
    "id": "ddfe1da0",
    "outputId": "69009cf9-b244-40f2-8a23-4dc5b5adce8c"
   },
   "outputs": [
    {
     "data": {
      "text/plain": [
       "Zone      0\n",
       "Année     0\n",
       "Valeur    0\n",
       "dtype: int64"
      ]
     },
     "execution_count": 21,
     "metadata": {},
     "output_type": "execute_result"
    }
   ],
   "source": [
    "sous_nutrition_2017.isna().sum()"
   ]
  },
  {
   "cell_type": "code",
   "execution_count": 22,
   "id": "685ced43",
   "metadata": {
    "id": "685ced43"
   },
   "outputs": [],
   "source": [
    "sous_nutrition_2017[\"Valeur\"] = sous_nutrition_2017[\"Valeur\"].astype(\"float\")  # changer le type de Valeur en float\n",
    "sous_nutrition_2017[\"Année\"] = sous_nutrition_2017[\"Année\"].astype(\"int64\")# changer le type de Année en int64\n",
    "sous_nutrition_2017['Valeur'] = sous_nutrition_2017['Valeur']*1000000  ## exprimer valeur en nombre de personnes \n",
    "                                                                      ## idem fichier population"
   ]
  },
  {
   "cell_type": "code",
   "execution_count": 23,
   "id": "624afe09",
   "metadata": {
    "id": "624afe09",
    "outputId": "f57cd911-9939-409a-fc85-7ef74fe08c4b"
   },
   "outputs": [
    {
     "data": {
      "text/plain": [
       "Zone       object\n",
       "Année       int64\n",
       "Valeur    float64\n",
       "dtype: object"
      ]
     },
     "execution_count": 23,
     "metadata": {},
     "output_type": "execute_result"
    }
   ],
   "source": [
    "sous_nutrition_2017.dtypes\n"
   ]
  },
  {
   "cell_type": "code",
   "execution_count": 24,
   "id": "bdd73121",
   "metadata": {
    "id": "bdd73121"
   },
   "outputs": [],
   "source": [
    "population_sous_alim_2017 = pd.merge(population_2017, sous_nutrition_2017, on=\"Zone\", how=\"outer\")"
   ]
  },
  {
   "cell_type": "code",
   "execution_count": 25,
   "id": "1b33a8f8",
   "metadata": {
    "id": "1b33a8f8"
   },
   "outputs": [],
   "source": [
    "population_sous_alim_2017.rename({'Valeur_x': 'nb_personnes', 'Valeur_y': 'nb_sous_alimentés','Année_x':'Année'}, axis=1, inplace=True)"
   ]
  },
  {
   "cell_type": "code",
   "execution_count": 26,
   "id": "069836dc",
   "metadata": {
    "id": "069836dc"
   },
   "outputs": [],
   "source": [
    "population_sous_alim_2017.drop('Année_y', axis=1, inplace=True)     # supprime la colonne Année_y provenant du fichier sous_nutrition"
   ]
  },
  {
   "cell_type": "markdown",
   "id": "af651ff0",
   "metadata": {
    "id": "af651ff0"
   },
   "source": [
    "# Partie 4 : Importation et traitement fichier dispo_alimentaire"
   ]
  },
  {
   "cell_type": "code",
   "execution_count": 29,
   "id": "1f6f94c5",
   "metadata": {
    "id": "1f6f94c5"
   },
   "outputs": [],
   "source": [
    "dispo_alimentaire = pd.read_csv('C:\\\\Users\\\\serge\\\\OneDrive\\\\Documents\\\\Documents\\\\DATA ANALYST\\\\P4\\\\dispo_alimentaire.csv')"
   ]
  },
  {
   "cell_type": "code",
   "execution_count": 30,
   "id": "2835d589",
   "metadata": {
    "id": "2835d589",
    "outputId": "99e7b2ec-997a-4750-e2e2-55b80303a744",
    "scrolled": true
   },
   "outputs": [
    {
     "name": "stdout",
     "output_type": "stream",
     "text": [
      "<class 'pandas.core.frame.DataFrame'>\n",
      "RangeIndex: 15605 entries, 0 to 15604\n",
      "Data columns (total 18 columns):\n",
      " #   Column                                                         Non-Null Count  Dtype  \n",
      "---  ------                                                         --------------  -----  \n",
      " 0   Zone                                                           15605 non-null  object \n",
      " 1   Produit                                                        15605 non-null  object \n",
      " 2   Origine                                                        15605 non-null  object \n",
      " 3   Aliments pour animaux                                          2720 non-null   float64\n",
      " 4   Autres Utilisations                                            5496 non-null   float64\n",
      " 5   Disponibilité alimentaire (Kcal/personne/jour)                 14241 non-null  float64\n",
      " 6   Disponibilité alimentaire en quantité (kg/personne/an)         14015 non-null  float64\n",
      " 7   Disponibilité de matière grasse en quantité (g/personne/jour)  11794 non-null  float64\n",
      " 8   Disponibilité de protéines en quantité (g/personne/jour)       11561 non-null  float64\n",
      " 9   Disponibilité intérieure                                       15382 non-null  float64\n",
      " 10  Exportations - Quantité                                        12226 non-null  float64\n",
      " 11  Importations - Quantité                                        14852 non-null  float64\n",
      " 12  Nourriture                                                     14015 non-null  float64\n",
      " 13  Pertes                                                         4278 non-null   float64\n",
      " 14  Production                                                     9180 non-null   float64\n",
      " 15  Semences                                                       2091 non-null   float64\n",
      " 16  Traitement                                                     2292 non-null   float64\n",
      " 17  Variation de stock                                             6776 non-null   float64\n",
      "dtypes: float64(15), object(3)\n",
      "memory usage: 2.1+ MB\n"
     ]
    }
   ],
   "source": [
    "dispo_alimentaire.info()\n"
   ]
  },
  {
   "cell_type": "markdown",
   "id": "fafb898e",
   "metadata": {
    "id": "fafb898e"
   },
   "source": [
    "## REPONSES AUX QUESTIONS "
   ]
  },
  {
   "cell_type": "markdown",
   "id": "3a9c9d3a",
   "metadata": {
    "id": "3a9c9d3a"
   },
   "source": [
    "\n",
    "1.la proportion de personnes en état de sous-nutrition.\n",
    "\n",
    "2.le nombre théorique de personnes qui pourraient être nourries. Tu devrais pouvoir calculer ça à partir de la disponibilité alimentaire mondiale \n",
    "\n",
    "3.idem pour la disponibilité alimentaire des produits végétaux \n",
    "\n",
    "4.l’utilisation de la disponibilité intérieure;en particulier la part qui est attribuée à l’alimentation animale \n",
    "\n",
    "5.La disponibilité intérieure perdue\n",
    "\n",
    "6.La disponibilité intérieure utilisée pour l'alimentation humaine. Je crois que Julien avait trouvé un moyen de facilement calculer ces proportions\n",
    "\n",
    "7.Les pays pour lesquels la proportion de personnes sous-alimentées est la plus forte en 2017\n",
    "\n",
    "8.Production de céréales utilisée comme aliment pour Animaux Vs Nourriture\n",
    "\n",
    "9.Etude du cas particulier du manioc en Thaïlande\n",
    "\n",
    "10.les pays qui ont le plus bénificié d’aide depuis 2013\n",
    "\n",
    "11.Pays qui ont le plus et le moins de disponibilité alimentaire/habitant.\n",
    "\n",
    "12.Autres informations utiles pour mettre en relief les pays qui semblent être le plus en difficulté au niveau alimentaire\n",
    "\n",
    "13.Carte de la disponibilité alimentaire de différents pays\n",
    "\n",
    "\n",
    "  "
   ]
  },
  {
   "cell_type": "markdown",
   "id": "c7cdf1ea",
   "metadata": {
    "id": "c7cdf1ea"
   },
   "source": [
    "### 1. la proportion de personnes en état de sous-nutrition "
   ]
  },
  {
   "cell_type": "code",
   "execution_count": 31,
   "id": "8a5b8f8a",
   "metadata": {
    "id": "8a5b8f8a",
    "outputId": "0d68f28c-8bcc-4f9d-f838-574824bf6432"
   },
   "outputs": [
    {
     "data": {
      "text/html": [
       "<div>\n",
       "<style scoped>\n",
       "    .dataframe tbody tr th:only-of-type {\n",
       "        vertical-align: middle;\n",
       "    }\n",
       "\n",
       "    .dataframe tbody tr th {\n",
       "        vertical-align: top;\n",
       "    }\n",
       "\n",
       "    .dataframe thead th {\n",
       "        text-align: right;\n",
       "    }\n",
       "</style>\n",
       "<table border=\"1\" class=\"dataframe\">\n",
       "  <thead>\n",
       "    <tr style=\"text-align: right;\">\n",
       "      <th></th>\n",
       "      <th>Zone</th>\n",
       "      <th>Année</th>\n",
       "      <th>nb_personnes</th>\n",
       "      <th>nb_sous_alimentés</th>\n",
       "    </tr>\n",
       "  </thead>\n",
       "  <tbody>\n",
       "    <tr>\n",
       "      <th>0</th>\n",
       "      <td>Afghanistan</td>\n",
       "      <td>2017</td>\n",
       "      <td>36296113.0</td>\n",
       "      <td>10500000.0</td>\n",
       "    </tr>\n",
       "    <tr>\n",
       "      <th>1</th>\n",
       "      <td>Afrique du Sud</td>\n",
       "      <td>2017</td>\n",
       "      <td>57009756.0</td>\n",
       "      <td>3100000.0</td>\n",
       "    </tr>\n",
       "    <tr>\n",
       "      <th>2</th>\n",
       "      <td>Albanie</td>\n",
       "      <td>2017</td>\n",
       "      <td>2884169.0</td>\n",
       "      <td>100000.0</td>\n",
       "    </tr>\n",
       "    <tr>\n",
       "      <th>3</th>\n",
       "      <td>Algérie</td>\n",
       "      <td>2017</td>\n",
       "      <td>41389189.0</td>\n",
       "      <td>1300000.0</td>\n",
       "    </tr>\n",
       "    <tr>\n",
       "      <th>4</th>\n",
       "      <td>Allemagne</td>\n",
       "      <td>2017</td>\n",
       "      <td>82658409.0</td>\n",
       "      <td>NaN</td>\n",
       "    </tr>\n",
       "  </tbody>\n",
       "</table>\n",
       "</div>"
      ],
      "text/plain": [
       "             Zone  Année  nb_personnes  nb_sous_alimentés\n",
       "0     Afghanistan   2017    36296113.0         10500000.0\n",
       "1  Afrique du Sud   2017    57009756.0          3100000.0\n",
       "2         Albanie   2017     2884169.0           100000.0\n",
       "3         Algérie   2017    41389189.0          1300000.0\n",
       "4       Allemagne   2017    82658409.0                NaN"
      ]
     },
     "execution_count": 31,
     "metadata": {},
     "output_type": "execute_result"
    }
   ],
   "source": [
    "population_sous_alim_2017.head()"
   ]
  },
  {
   "cell_type": "code",
   "execution_count": 32,
   "id": "b4ff99db",
   "metadata": {
    "id": "b4ff99db"
   },
   "outputs": [],
   "source": [
    "ratio_sous_nutrition=round(((population_sous_alim_2017['nb_sous_alimentés'].sum()/population_sous_alim_2017['nb_personnes'].sum())*100),2)"
   ]
  },
  {
   "cell_type": "code",
   "execution_count": 33,
   "id": "72e973aa",
   "metadata": {
    "id": "72e973aa",
    "outputId": "ca410b7d-c3c1-407b-8461-aaf5704fd831"
   },
   "outputs": [
    {
     "name": "stdout",
     "output_type": "stream",
     "text": [
      "la proportion de personnes en état de sous-nutrition est de  7.1 %\n"
     ]
    }
   ],
   "source": [
    "print('la proportion de personnes en état de sous-nutrition est de ',ratio_sous_nutrition,\"%\" )"
   ]
  },
  {
   "cell_type": "markdown",
   "id": "9c68b02c",
   "metadata": {
    "id": "9c68b02c"
   },
   "source": [
    "### 2. le nombre théorique de personnes qui pourraient être nourries à partir de la disponibilité alimentaire mondiale "
   ]
  },
  {
   "cell_type": "markdown",
   "id": "b92c68f6",
   "metadata": {
    "id": "b92c68f6"
   },
   "source": [
    "##### nb théorique personnes = disponibilite alimentaire totale/population mondiale     \n",
    "#### on considère un besoin moyen journalier de 2500 Kcal/ personne/ jour\n",
    "#### disponibilite alimentaire totale = somme(disponibilite alimentaire/ personne/jour par pays) * (nb personnes du pays) en Kcal /jr"
   ]
  },
  {
   "cell_type": "code",
   "execution_count": 34,
   "id": "662523f5",
   "metadata": {
    "id": "662523f5"
   },
   "outputs": [],
   "source": [
    "dispo_alimentaire_pays=pd.merge(dispo_alimentaire.groupby(['Zone'])['Disponibilité alimentaire (Kcal/personne/jour)'].sum(),population_2017,on=\"Zone\", how=\"outer\")"
   ]
  },
  {
   "cell_type": "code",
   "execution_count": 35,
   "id": "0e96460a",
   "metadata": {
    "id": "0e96460a",
    "outputId": "39c82f5e-41fe-4fc0-c6f5-90947a1bb4d6",
    "scrolled": true
   },
   "outputs": [
    {
     "data": {
      "text/html": [
       "<div>\n",
       "<style scoped>\n",
       "    .dataframe tbody tr th:only-of-type {\n",
       "        vertical-align: middle;\n",
       "    }\n",
       "\n",
       "    .dataframe tbody tr th {\n",
       "        vertical-align: top;\n",
       "    }\n",
       "\n",
       "    .dataframe thead th {\n",
       "        text-align: right;\n",
       "    }\n",
       "</style>\n",
       "<table border=\"1\" class=\"dataframe\">\n",
       "  <thead>\n",
       "    <tr style=\"text-align: right;\">\n",
       "      <th></th>\n",
       "      <th>Zone</th>\n",
       "      <th>Disponibilité alimentaire (Kcal/personne/jour)</th>\n",
       "      <th>Année</th>\n",
       "      <th>Valeur</th>\n",
       "    </tr>\n",
       "  </thead>\n",
       "  <tbody>\n",
       "    <tr>\n",
       "      <th>0</th>\n",
       "      <td>Afghanistan</td>\n",
       "      <td>2087.0</td>\n",
       "      <td>2017.0</td>\n",
       "      <td>36296113.0</td>\n",
       "    </tr>\n",
       "    <tr>\n",
       "      <th>1</th>\n",
       "      <td>Afrique du Sud</td>\n",
       "      <td>3020.0</td>\n",
       "      <td>2017.0</td>\n",
       "      <td>57009756.0</td>\n",
       "    </tr>\n",
       "    <tr>\n",
       "      <th>2</th>\n",
       "      <td>Albanie</td>\n",
       "      <td>3188.0</td>\n",
       "      <td>2017.0</td>\n",
       "      <td>2884169.0</td>\n",
       "    </tr>\n",
       "    <tr>\n",
       "      <th>3</th>\n",
       "      <td>Algérie</td>\n",
       "      <td>3293.0</td>\n",
       "      <td>2017.0</td>\n",
       "      <td>41389189.0</td>\n",
       "    </tr>\n",
       "    <tr>\n",
       "      <th>4</th>\n",
       "      <td>Allemagne</td>\n",
       "      <td>3503.0</td>\n",
       "      <td>2017.0</td>\n",
       "      <td>82658409.0</td>\n",
       "    </tr>\n",
       "  </tbody>\n",
       "</table>\n",
       "</div>"
      ],
      "text/plain": [
       "             Zone  Disponibilité alimentaire (Kcal/personne/jour)   Année  \\\n",
       "0     Afghanistan                                          2087.0  2017.0   \n",
       "1  Afrique du Sud                                          3020.0  2017.0   \n",
       "2         Albanie                                          3188.0  2017.0   \n",
       "3         Algérie                                          3293.0  2017.0   \n",
       "4       Allemagne                                          3503.0  2017.0   \n",
       "\n",
       "       Valeur  \n",
       "0  36296113.0  \n",
       "1  57009756.0  \n",
       "2   2884169.0  \n",
       "3  41389189.0  \n",
       "4  82658409.0  "
      ]
     },
     "execution_count": 35,
     "metadata": {},
     "output_type": "execute_result"
    }
   ],
   "source": [
    "dispo_alimentaire_pays.head()"
   ]
  },
  {
   "cell_type": "code",
   "execution_count": 36,
   "id": "41069ed4",
   "metadata": {
    "id": "41069ed4"
   },
   "outputs": [],
   "source": [
    "dispo_alimentaire_pays['Kcal_tot_jour']=dispo_alimentaire_pays['Disponibilité alimentaire (Kcal/personne/jour)']*dispo_alimentaire_pays['Valeur']"
   ]
  },
  {
   "cell_type": "code",
   "execution_count": 37,
   "id": "fb56adef",
   "metadata": {
    "id": "fb56adef",
    "outputId": "d6d6a40b-ef81-4e2d-a63d-4e9257fa2880"
   },
   "outputs": [
    {
     "data": {
      "text/html": [
       "<div>\n",
       "<style scoped>\n",
       "    .dataframe tbody tr th:only-of-type {\n",
       "        vertical-align: middle;\n",
       "    }\n",
       "\n",
       "    .dataframe tbody tr th {\n",
       "        vertical-align: top;\n",
       "    }\n",
       "\n",
       "    .dataframe thead th {\n",
       "        text-align: right;\n",
       "    }\n",
       "</style>\n",
       "<table border=\"1\" class=\"dataframe\">\n",
       "  <thead>\n",
       "    <tr style=\"text-align: right;\">\n",
       "      <th></th>\n",
       "      <th>Zone</th>\n",
       "      <th>Disponibilité alimentaire (Kcal/personne/jour)</th>\n",
       "      <th>Année</th>\n",
       "      <th>Valeur</th>\n",
       "      <th>Kcal_tot_jour</th>\n",
       "    </tr>\n",
       "  </thead>\n",
       "  <tbody>\n",
       "    <tr>\n",
       "      <th>11</th>\n",
       "      <td>Autriche</td>\n",
       "      <td>3770.0</td>\n",
       "      <td>2017.0</td>\n",
       "      <td>8819901.0</td>\n",
       "      <td>3.325103e+10</td>\n",
       "    </tr>\n",
       "    <tr>\n",
       "      <th>16</th>\n",
       "      <td>Belgique</td>\n",
       "      <td>3737.0</td>\n",
       "      <td>2017.0</td>\n",
       "      <td>11419748.0</td>\n",
       "      <td>4.267560e+10</td>\n",
       "    </tr>\n",
       "    <tr>\n",
       "      <th>159</th>\n",
       "      <td>Turquie</td>\n",
       "      <td>3708.0</td>\n",
       "      <td>2017.0</td>\n",
       "      <td>81116450.0</td>\n",
       "      <td>3.007798e+11</td>\n",
       "    </tr>\n",
       "    <tr>\n",
       "      <th>171</th>\n",
       "      <td>États-Unis d'Amérique</td>\n",
       "      <td>3682.0</td>\n",
       "      <td>2017.0</td>\n",
       "      <td>325084756.0</td>\n",
       "      <td>1.196962e+12</td>\n",
       "    </tr>\n",
       "    <tr>\n",
       "      <th>74</th>\n",
       "      <td>Israël</td>\n",
       "      <td>3610.0</td>\n",
       "      <td>2017.0</td>\n",
       "      <td>8243848.0</td>\n",
       "      <td>2.976029e+10</td>\n",
       "    </tr>\n",
       "    <tr>\n",
       "      <th>...</th>\n",
       "      <td>...</td>\n",
       "      <td>...</td>\n",
       "      <td>...</td>\n",
       "      <td>...</td>\n",
       "      <td>...</td>\n",
       "    </tr>\n",
       "    <tr>\n",
       "      <th>233</th>\n",
       "      <td>Soudan du Sud</td>\n",
       "      <td>NaN</td>\n",
       "      <td>2017.0</td>\n",
       "      <td>10910763.0</td>\n",
       "      <td>NaN</td>\n",
       "    </tr>\n",
       "    <tr>\n",
       "      <th>234</th>\n",
       "      <td>Tchéquie</td>\n",
       "      <td>NaN</td>\n",
       "      <td>2017.0</td>\n",
       "      <td>10641034.0</td>\n",
       "      <td>NaN</td>\n",
       "    </tr>\n",
       "    <tr>\n",
       "      <th>235</th>\n",
       "      <td>Tokélaou</td>\n",
       "      <td>NaN</td>\n",
       "      <td>2017.0</td>\n",
       "      <td>1300.0</td>\n",
       "      <td>NaN</td>\n",
       "    </tr>\n",
       "    <tr>\n",
       "      <th>236</th>\n",
       "      <td>Tonga</td>\n",
       "      <td>NaN</td>\n",
       "      <td>2017.0</td>\n",
       "      <td>101998.0</td>\n",
       "      <td>NaN</td>\n",
       "    </tr>\n",
       "    <tr>\n",
       "      <th>237</th>\n",
       "      <td>Tuvalu</td>\n",
       "      <td>NaN</td>\n",
       "      <td>2017.0</td>\n",
       "      <td>11370.0</td>\n",
       "      <td>NaN</td>\n",
       "    </tr>\n",
       "  </tbody>\n",
       "</table>\n",
       "<p>238 rows × 5 columns</p>\n",
       "</div>"
      ],
      "text/plain": [
       "                      Zone  Disponibilité alimentaire (Kcal/personne/jour)  \\\n",
       "11                Autriche                                          3770.0   \n",
       "16                Belgique                                          3737.0   \n",
       "159                Turquie                                          3708.0   \n",
       "171  États-Unis d'Amérique                                          3682.0   \n",
       "74                  Israël                                          3610.0   \n",
       "..                     ...                                             ...   \n",
       "233          Soudan du Sud                                             NaN   \n",
       "234               Tchéquie                                             NaN   \n",
       "235               Tokélaou                                             NaN   \n",
       "236                  Tonga                                             NaN   \n",
       "237                 Tuvalu                                             NaN   \n",
       "\n",
       "      Année       Valeur  Kcal_tot_jour  \n",
       "11   2017.0    8819901.0   3.325103e+10  \n",
       "16   2017.0   11419748.0   4.267560e+10  \n",
       "159  2017.0   81116450.0   3.007798e+11  \n",
       "171  2017.0  325084756.0   1.196962e+12  \n",
       "74   2017.0    8243848.0   2.976029e+10  \n",
       "..      ...          ...            ...  \n",
       "233  2017.0   10910763.0            NaN  \n",
       "234  2017.0   10641034.0            NaN  \n",
       "235  2017.0       1300.0            NaN  \n",
       "236  2017.0     101998.0            NaN  \n",
       "237  2017.0      11370.0            NaN  \n",
       "\n",
       "[238 rows x 5 columns]"
      ]
     },
     "execution_count": 37,
     "metadata": {},
     "output_type": "execute_result"
    }
   ],
   "source": [
    "dispo_alimentaire_pays.sort_values(by='Disponibilité alimentaire (Kcal/personne/jour)', ascending=False) \n"
   ]
  },
  {
   "cell_type": "code",
   "execution_count": 38,
   "id": "4bc94204",
   "metadata": {
    "id": "4bc94204"
   },
   "outputs": [],
   "source": [
    "Nbre_personnes= dispo_alimentaire_pays['Kcal_tot_jour'].sum()/2500  # disponibilité alimentaire mondiale \n",
    "                                                                    # divisé par besoin moyen kcal/jr "
   ]
  },
  {
   "cell_type": "code",
   "execution_count": 39,
   "id": "a110176e",
   "metadata": {
    "id": "a110176e",
    "outputId": "4fb0403c-eec4-4fd4-c391-e995d3f24ba6",
    "scrolled": true
   },
   "outputs": [
    {
     "name": "stdout",
     "output_type": "stream",
     "text": [
      "le nombre théorique de personnes qui pourraient être nourries est de: 8367593851.0 personnes soit 110.86 % de la population mondiale actuelle\n"
     ]
    }
   ],
   "source": [
    "print('le nombre théorique de personnes qui pourraient être nourries est de:',round(Nbre_personnes ,0),'personnes soit',round(((Nbre_personnes/population_2017['Valeur'].sum())*100),2) ,'% de la population mondiale actuelle')\n"
   ]
  },
  {
   "cell_type": "markdown",
   "id": "5d602c20",
   "metadata": {
    "id": "5d602c20"
   },
   "source": [
    "### 3. le nombre théorique de personnes qui pourraient être nourries à partir de la disponibilité alimentaire mondiale des produits végétaux "
   ]
  },
  {
   "cell_type": "code",
   "execution_count": 40,
   "id": "2a35e763",
   "metadata": {
    "id": "2a35e763"
   },
   "outputs": [],
   "source": [
    "dispo_alimentaire_vegetale=dispo_alimentaire.loc[dispo_alimentaire['Origine'] == \\\n",
    "\"vegetale\",['Zone','Disponibilité alimentaire (Kcal/personne/jour)']].groupby(['Zone'])\\\n",
    "['Disponibilité alimentaire (Kcal/personne/jour)'].sum()\n"
   ]
  },
  {
   "cell_type": "code",
   "execution_count": 41,
   "id": "c1251dbe",
   "metadata": {
    "id": "c1251dbe",
    "outputId": "94ea565c-2d8b-4807-d623-2aae87b2f763",
    "scrolled": true
   },
   "outputs": [
    {
     "data": {
      "text/plain": [
       "Zone\n",
       "Afghanistan       1871.0\n",
       "Afrique du Sud    2533.0\n",
       "Albanie           2203.0\n",
       "Algérie           2915.0\n",
       "Allemagne         2461.0\n",
       "Name: Disponibilité alimentaire (Kcal/personne/jour), dtype: float64"
      ]
     },
     "execution_count": 41,
     "metadata": {},
     "output_type": "execute_result"
    }
   ],
   "source": [
    "dispo_alimentaire_vegetale.head()"
   ]
  },
  {
   "cell_type": "code",
   "execution_count": 42,
   "id": "7a7ad5d1",
   "metadata": {
    "id": "7a7ad5d1"
   },
   "outputs": [],
   "source": [
    "dispo_alimentaire_vegetale=pd.merge(dispo_alimentaire_vegetale,population_2017,on=\"Zone\", how=\"outer\")"
   ]
  },
  {
   "cell_type": "code",
   "execution_count": 43,
   "id": "f7d53f6a",
   "metadata": {
    "id": "f7d53f6a"
   },
   "outputs": [],
   "source": [
    "dispo_alimentaire_vegetale['Kcal_tot_jour']=dispo_alimentaire_vegetale['Disponibilité alimentaire (Kcal/personne/jour)']*dispo_alimentaire_pays['Valeur']"
   ]
  },
  {
   "cell_type": "code",
   "execution_count": 44,
   "id": "8749b932",
   "metadata": {
    "id": "8749b932",
    "outputId": "dee5bde3-60b8-4699-bb56-16008cf75606"
   },
   "outputs": [
    {
     "data": {
      "text/html": [
       "<div>\n",
       "<style scoped>\n",
       "    .dataframe tbody tr th:only-of-type {\n",
       "        vertical-align: middle;\n",
       "    }\n",
       "\n",
       "    .dataframe tbody tr th {\n",
       "        vertical-align: top;\n",
       "    }\n",
       "\n",
       "    .dataframe thead th {\n",
       "        text-align: right;\n",
       "    }\n",
       "</style>\n",
       "<table border=\"1\" class=\"dataframe\">\n",
       "  <thead>\n",
       "    <tr style=\"text-align: right;\">\n",
       "      <th></th>\n",
       "      <th>Zone</th>\n",
       "      <th>Disponibilité alimentaire (Kcal/personne/jour)</th>\n",
       "      <th>Année</th>\n",
       "      <th>Valeur</th>\n",
       "      <th>Kcal_tot_jour</th>\n",
       "    </tr>\n",
       "  </thead>\n",
       "  <tbody>\n",
       "    <tr>\n",
       "      <th>0</th>\n",
       "      <td>Afghanistan</td>\n",
       "      <td>1871.0</td>\n",
       "      <td>2017.0</td>\n",
       "      <td>36296113.0</td>\n",
       "      <td>6.791003e+10</td>\n",
       "    </tr>\n",
       "    <tr>\n",
       "      <th>1</th>\n",
       "      <td>Afrique du Sud</td>\n",
       "      <td>2533.0</td>\n",
       "      <td>2017.0</td>\n",
       "      <td>57009756.0</td>\n",
       "      <td>1.444057e+11</td>\n",
       "    </tr>\n",
       "    <tr>\n",
       "      <th>2</th>\n",
       "      <td>Albanie</td>\n",
       "      <td>2203.0</td>\n",
       "      <td>2017.0</td>\n",
       "      <td>2884169.0</td>\n",
       "      <td>6.353824e+09</td>\n",
       "    </tr>\n",
       "    <tr>\n",
       "      <th>3</th>\n",
       "      <td>Algérie</td>\n",
       "      <td>2915.0</td>\n",
       "      <td>2017.0</td>\n",
       "      <td>41389189.0</td>\n",
       "      <td>1.206495e+11</td>\n",
       "    </tr>\n",
       "    <tr>\n",
       "      <th>4</th>\n",
       "      <td>Allemagne</td>\n",
       "      <td>2461.0</td>\n",
       "      <td>2017.0</td>\n",
       "      <td>82658409.0</td>\n",
       "      <td>2.034223e+11</td>\n",
       "    </tr>\n",
       "  </tbody>\n",
       "</table>\n",
       "</div>"
      ],
      "text/plain": [
       "             Zone  Disponibilité alimentaire (Kcal/personne/jour)   Année  \\\n",
       "0     Afghanistan                                          1871.0  2017.0   \n",
       "1  Afrique du Sud                                          2533.0  2017.0   \n",
       "2         Albanie                                          2203.0  2017.0   \n",
       "3         Algérie                                          2915.0  2017.0   \n",
       "4       Allemagne                                          2461.0  2017.0   \n",
       "\n",
       "       Valeur  Kcal_tot_jour  \n",
       "0  36296113.0   6.791003e+10  \n",
       "1  57009756.0   1.444057e+11  \n",
       "2   2884169.0   6.353824e+09  \n",
       "3  41389189.0   1.206495e+11  \n",
       "4  82658409.0   2.034223e+11  "
      ]
     },
     "execution_count": 44,
     "metadata": {},
     "output_type": "execute_result"
    }
   ],
   "source": [
    "dispo_alimentaire_vegetale.head()"
   ]
  },
  {
   "cell_type": "code",
   "execution_count": 45,
   "id": "53248735",
   "metadata": {
    "id": "53248735",
    "outputId": "61811133-952d-4716-9f28-8970b2280f3c"
   },
   "outputs": [
    {
     "data": {
      "text/plain": [
       "17260764211501.0"
      ]
     },
     "execution_count": 45,
     "metadata": {},
     "output_type": "execute_result"
    }
   ],
   "source": [
    "dispo_alimentaire_vegetale['Kcal_tot_jour'].sum()    # somme des disponibilites alimentaires \n",
    "                                                            # journalières dans le monde en Kcal/personne/jour"
   ]
  },
  {
   "cell_type": "code",
   "execution_count": 46,
   "id": "f17ed410",
   "metadata": {
    "id": "f17ed410"
   },
   "outputs": [],
   "source": [
    "Nbre_personnes_vegetale= dispo_alimentaire_vegetale['Kcal_tot_jour'].sum()/2500   # 2500 kcal besoin moyen jour"
   ]
  },
  {
   "cell_type": "code",
   "execution_count": 47,
   "id": "97725c76",
   "metadata": {
    "id": "97725c76",
    "outputId": "056bddd3-c9de-4bac-cebc-b71ebcedb2d0"
   },
   "outputs": [
    {
     "name": "stdout",
     "output_type": "stream",
     "text": [
      "le nombre théorique de personnes qui pourraient être nourries est de: 6904305685.0 personnes soit 91.47 % de la population mondiale actuelle\n"
     ]
    }
   ],
   "source": [
    "print('le nombre théorique de personnes qui pourraient être nourries est de:',round(Nbre_personnes_vegetale ,0),'personnes soit',round(((Nbre_personnes_vegetale/population_2017['Valeur'].sum())*100),2) ,'% de la population mondiale actuelle')"
   ]
  },
  {
   "cell_type": "markdown",
   "id": "610c36fa",
   "metadata": {
    "id": "610c36fa"
   },
   "source": [
    "### 3bis . le nombre théorique de personnes qui pourraient être nourries à partir de la disponibilité alimentaire mondiale des produits d'origine animale."
   ]
  },
  {
   "cell_type": "code",
   "execution_count": 48,
   "id": "55e4f9e9",
   "metadata": {
    "id": "55e4f9e9"
   },
   "outputs": [],
   "source": [
    "dispo_alimentaire_animale=dispo_alimentaire.loc[dispo_alimentaire['Origine'] == \\\n",
    "\"animale\",['Zone','Disponibilité alimentaire (Kcal/personne/jour)']].groupby(['Zone'])\\\n",
    "['Disponibilité alimentaire (Kcal/personne/jour)'].sum()"
   ]
  },
  {
   "cell_type": "code",
   "execution_count": 49,
   "id": "e4c53084",
   "metadata": {
    "id": "e4c53084"
   },
   "outputs": [],
   "source": [
    "dispo_alimentaire_animale=pd.merge(dispo_alimentaire_animale,population_2017,on=\"Zone\", how=\"outer\")"
   ]
  },
  {
   "cell_type": "code",
   "execution_count": 50,
   "id": "fee6b123",
   "metadata": {
    "id": "fee6b123"
   },
   "outputs": [],
   "source": [
    "dispo_alimentaire_animale['Kcal_tot_jour']=dispo_alimentaire_animale['Disponibilité alimentaire (Kcal/personne/jour)']*dispo_alimentaire_pays['Valeur']"
   ]
  },
  {
   "cell_type": "code",
   "execution_count": 51,
   "id": "a558ab47",
   "metadata": {
    "id": "a558ab47",
    "outputId": "0bd722f5-f08e-41ef-96d7-8acd6eff6335",
    "scrolled": true
   },
   "outputs": [
    {
     "data": {
      "text/html": [
       "<div>\n",
       "<style scoped>\n",
       "    .dataframe tbody tr th:only-of-type {\n",
       "        vertical-align: middle;\n",
       "    }\n",
       "\n",
       "    .dataframe tbody tr th {\n",
       "        vertical-align: top;\n",
       "    }\n",
       "\n",
       "    .dataframe thead th {\n",
       "        text-align: right;\n",
       "    }\n",
       "</style>\n",
       "<table border=\"1\" class=\"dataframe\">\n",
       "  <thead>\n",
       "    <tr style=\"text-align: right;\">\n",
       "      <th></th>\n",
       "      <th>Zone</th>\n",
       "      <th>Disponibilité alimentaire (Kcal/personne/jour)</th>\n",
       "      <th>Année</th>\n",
       "      <th>Valeur</th>\n",
       "      <th>Kcal_tot_jour</th>\n",
       "    </tr>\n",
       "  </thead>\n",
       "  <tbody>\n",
       "    <tr>\n",
       "      <th>0</th>\n",
       "      <td>Afghanistan</td>\n",
       "      <td>216.0</td>\n",
       "      <td>2017.0</td>\n",
       "      <td>36296113.0</td>\n",
       "      <td>7.839960e+09</td>\n",
       "    </tr>\n",
       "    <tr>\n",
       "      <th>1</th>\n",
       "      <td>Afrique du Sud</td>\n",
       "      <td>487.0</td>\n",
       "      <td>2017.0</td>\n",
       "      <td>57009756.0</td>\n",
       "      <td>2.776375e+10</td>\n",
       "    </tr>\n",
       "    <tr>\n",
       "      <th>2</th>\n",
       "      <td>Albanie</td>\n",
       "      <td>985.0</td>\n",
       "      <td>2017.0</td>\n",
       "      <td>2884169.0</td>\n",
       "      <td>2.840906e+09</td>\n",
       "    </tr>\n",
       "    <tr>\n",
       "      <th>3</th>\n",
       "      <td>Algérie</td>\n",
       "      <td>378.0</td>\n",
       "      <td>2017.0</td>\n",
       "      <td>41389189.0</td>\n",
       "      <td>1.564511e+10</td>\n",
       "    </tr>\n",
       "    <tr>\n",
       "      <th>4</th>\n",
       "      <td>Allemagne</td>\n",
       "      <td>1042.0</td>\n",
       "      <td>2017.0</td>\n",
       "      <td>82658409.0</td>\n",
       "      <td>8.613006e+10</td>\n",
       "    </tr>\n",
       "  </tbody>\n",
       "</table>\n",
       "</div>"
      ],
      "text/plain": [
       "             Zone  Disponibilité alimentaire (Kcal/personne/jour)   Année  \\\n",
       "0     Afghanistan                                           216.0  2017.0   \n",
       "1  Afrique du Sud                                           487.0  2017.0   \n",
       "2         Albanie                                           985.0  2017.0   \n",
       "3         Algérie                                           378.0  2017.0   \n",
       "4       Allemagne                                          1042.0  2017.0   \n",
       "\n",
       "       Valeur  Kcal_tot_jour  \n",
       "0  36296113.0   7.839960e+09  \n",
       "1  57009756.0   2.776375e+10  \n",
       "2   2884169.0   2.840906e+09  \n",
       "3  41389189.0   1.564511e+10  \n",
       "4  82658409.0   8.613006e+10  "
      ]
     },
     "execution_count": 51,
     "metadata": {},
     "output_type": "execute_result"
    }
   ],
   "source": [
    "dispo_alimentaire_animale.head()"
   ]
  },
  {
   "cell_type": "code",
   "execution_count": 52,
   "id": "4744e9a2",
   "metadata": {
    "id": "4744e9a2",
    "outputId": "8b0387e3-6f72-4ef4-da88-1555af6b0695"
   },
   "outputs": [
    {
     "data": {
      "text/plain": [
       "3658220415830.0"
      ]
     },
     "execution_count": 52,
     "metadata": {},
     "output_type": "execute_result"
    }
   ],
   "source": [
    "dispo_alimentaire_animale['Kcal_tot_jour'].sum()"
   ]
  },
  {
   "cell_type": "code",
   "execution_count": 53,
   "id": "6fb66bd0",
   "metadata": {
    "id": "6fb66bd0"
   },
   "outputs": [],
   "source": [
    "Nbre_personnes_animale= dispo_alimentaire_animale['Kcal_tot_jour'].sum()/2500"
   ]
  },
  {
   "cell_type": "code",
   "execution_count": 54,
   "id": "7d07f041",
   "metadata": {
    "id": "7d07f041",
    "outputId": "de0f9fbe-3b77-4f68-88ce-bffe46c9589a"
   },
   "outputs": [
    {
     "data": {
      "text/plain": [
       "1463288166.0"
      ]
     },
     "execution_count": 54,
     "metadata": {},
     "output_type": "execute_result"
    }
   ],
   "source": [
    "round(Nbre_personnes_animale,0)"
   ]
  },
  {
   "cell_type": "code",
   "execution_count": 55,
   "id": "03ab145d",
   "metadata": {
    "id": "03ab145d",
    "outputId": "da662750-7a62-4635-d5d6-7d1e3f6ccc0f"
   },
   "outputs": [
    {
     "name": "stdout",
     "output_type": "stream",
     "text": [
      "le nombre théorique de personnes qui pourraient être nourries est de: 1463288166.0 personnes soit 19.39 % de la population mondiale actuelle\n"
     ]
    }
   ],
   "source": [
    "print('le nombre théorique de personnes qui pourraient être nourries est de:',round(Nbre_personnes_animale ,0),'personnes soit',round(((Nbre_personnes_animale/population_2017['Valeur'].sum())*100),2) ,'% de la population mondiale actuelle')"
   ]
  },
  {
   "cell_type": "markdown",
   "id": "00feb059",
   "metadata": {
    "id": "00feb059"
   },
   "source": [
    "### 4. la part de la disponibilité intérieure mondiale attribuée à l’alimentation animale."
   ]
  },
  {
   "cell_type": "code",
   "execution_count": 56,
   "id": "0889008e",
   "metadata": {
    "id": "0889008e",
    "outputId": "dce55c4e-4726-4a06-ebd8-1883d3db6ed0"
   },
   "outputs": [
    {
     "name": "stdout",
     "output_type": "stream",
     "text": [
      "l alimentation animale mondiale représente 1304245.0 milliers de tonnes soit  13.24 % de la disponibilité alimentaire totale\n"
     ]
    }
   ],
   "source": [
    "print('l alimentation animale mondiale représente', dispo_alimentaire['Aliments pour animaux'].sum(), 'milliers de tonnes soit ',round((dispo_alimentaire['Aliments pour animaux'].sum()/dispo_alimentaire['Disponibilité intérieure'].sum())*100,2),'% de la disponibilité alimentaire totale')"
   ]
  },
  {
   "cell_type": "markdown",
   "id": "5ea3d5ba",
   "metadata": {
    "id": "5ea3d5ba"
   },
   "source": [
    "### 5. perte totale de la disponibilité intérieure mondiale"
   ]
  },
  {
   "cell_type": "code",
   "execution_count": 57,
   "id": "b90cbfd5",
   "metadata": {
    "id": "b90cbfd5",
    "outputId": "0096d89f-f233-4064-a986-a13edc3c3c7d",
    "scrolled": true
   },
   "outputs": [
    {
     "name": "stdout",
     "output_type": "stream",
     "text": [
      "La perte totale de la disponibilité intérieure mondiale représente 453698.0 milliers de tonnes soit  4.61 % de la  disponibilité alimentaire totale.\n"
     ]
    }
   ],
   "source": [
    "print('La perte totale de la disponibilité intérieure mondiale représente', dispo_alimentaire['Pertes'].sum(),'milliers de tonnes soit ',round((dispo_alimentaire['Pertes'].sum()/dispo_alimentaire['Disponibilité intérieure'].sum())*100,2),'% de la  disponibilité alimentaire totale.')"
   ]
  },
  {
   "cell_type": "markdown",
   "id": "c2002d76",
   "metadata": {
    "id": "c2002d76"
   },
   "source": [
    "### 6. la part de la disponibilité intérieure mondiale utilisée pour l'alimentation humaine"
   ]
  },
  {
   "cell_type": "code",
   "execution_count": 58,
   "id": "51205947",
   "metadata": {
    "id": "51205947",
    "outputId": "082677c3-37b7-4e0b-8761-6c214d137bfe"
   },
   "outputs": [
    {
     "name": "stdout",
     "output_type": "stream",
     "text": [
      "l alimentation humaine mondiale représente 4876258.0 milliers de tonnes soit  49.51 % de la disponibilité alimentaire totale\n"
     ]
    }
   ],
   "source": [
    "print('l alimentation humaine mondiale représente', dispo_alimentaire['Nourriture'].sum(), 'milliers de tonnes soit ',round((dispo_alimentaire['Nourriture'].sum()/dispo_alimentaire['Disponibilité intérieure'].sum())*100,2),'% de la disponibilité alimentaire totale')"
   ]
  },
  {
   "cell_type": "markdown",
   "id": "6d42d679",
   "metadata": {
    "id": "6d42d679"
   },
   "source": [
    "### 6bis. la part de la disponibilité intérieure mondiale attribuée aus semences,au traitement et aux autres utilisations."
   ]
  },
  {
   "cell_type": "code",
   "execution_count": 59,
   "id": "109628cb",
   "metadata": {
    "id": "109628cb",
    "outputId": "a60e8156-94da-477f-d193-7e56dfc0bd53"
   },
   "outputs": [
    {
     "name": "stdout",
     "output_type": "stream",
     "text": [
      "la production de semences représente 154681.0 milliers de tonnes soit 1.57 % de la disponibilité alimentaire totale\n"
     ]
    }
   ],
   "source": [
    "print('la production de semences représente', dispo_alimentaire['Semences'].sum(), 'milliers de tonnes soit',round((dispo_alimentaire['Semences'].sum()/dispo_alimentaire['Disponibilité intérieure'].sum())*100,2),'% de la disponibilité alimentaire totale')"
   ]
  },
  {
   "cell_type": "code",
   "execution_count": 60,
   "id": "7bd6d010",
   "metadata": {
    "id": "7bd6d010",
    "outputId": "7cd8d04d-1bc1-4da6-9d91-0b6550ae3739"
   },
   "outputs": [
    {
     "name": "stdout",
     "output_type": "stream",
     "text": [
      "la partie \"Traitement\" représente 2204687.0 milliers de tonnes soit 22.38 % de la disponibilité alimentaire totale\n"
     ]
    }
   ],
   "source": [
    "print('la partie \"Traitement\" représente', dispo_alimentaire['Traitement'].sum(), 'milliers de tonnes soit',round((dispo_alimentaire['Traitement'].sum()/dispo_alimentaire['Disponibilité intérieure'].sum())*100,2),'% de la disponibilité alimentaire totale')"
   ]
  },
  {
   "cell_type": "code",
   "execution_count": 61,
   "id": "453723da",
   "metadata": {
    "id": "453723da",
    "outputId": "ee3b4bf2-283a-449c-9cbf-c713b2cdd553"
   },
   "outputs": [
    {
     "name": "stdout",
     "output_type": "stream",
     "text": [
      "la partie \"Autres Utilisations\" représente 865023.0 milliers de tonnes soit 8.78 % de la disponibilité alimentaire totale\n"
     ]
    }
   ],
   "source": [
    "print('la partie \"Autres Utilisations\" représente', dispo_alimentaire['Autres Utilisations'].sum(), 'milliers de tonnes soit',round((dispo_alimentaire['Autres Utilisations'].sum()/dispo_alimentaire['Disponibilité intérieure'].sum())*100,2),'% de la disponibilité alimentaire totale')"
   ]
  },
  {
   "cell_type": "code",
   "execution_count": 62,
   "id": "70e7110c",
   "metadata": {
    "id": "70e7110c"
   },
   "outputs": [],
   "source": [
    "part_nourriture=round((dispo_alimentaire['Nourriture'].sum()/dispo_alimentaire['Disponibilité intérieure'].sum())*100,2)\n",
    "part_semence=round((dispo_alimentaire['Semences'].sum()/dispo_alimentaire['Disponibilité intérieure'].sum())*100,2)\n",
    "part_alimentation_animale=round((dispo_alimentaire['Aliments pour animaux'].sum()/dispo_alimentaire['Disponibilité intérieure'].sum())*100,2)\n",
    "part_traitement=round((dispo_alimentaire['Traitement'].sum()/dispo_alimentaire['Disponibilité intérieure'].sum())*100,2)\n",
    "part_autres_utilisations=round((dispo_alimentaire['Autres Utilisations'].sum()/dispo_alimentaire['Disponibilité intérieure'].sum())*100,2)"
   ]
  },
  {
   "cell_type": "code",
   "execution_count": 63,
   "id": "b68f8723",
   "metadata": {
    "id": "b68f8723",
    "outputId": "54be9b43-64b7-4a91-8774-5a25f3b36990",
    "scrolled": false
   },
   "outputs": [
    {
     "data": {
      "text/plain": [
       "Text(0.5, 0.98, 'Répartition de la disponibilité alimentaire totale')"
      ]
     },
     "execution_count": 63,
     "metadata": {},
     "output_type": "execute_result"
    },
    {
     "data": {
      "image/png": "[encoded data removed]",
      "text/plain": [
       "<Figure size 576x576 with 1 Axes>"
      ]
     },
     "metadata": {},
     "output_type": "display_data"
    }
   ],
   "source": [
    "\n",
    "pyplot.figure(figsize = (8, 8))\n",
    "x = [part_nourriture, part_alimentation_animale,part_traitement,part_autres_utilisations,part_semence]\n",
    "pyplot.pie(x, labels = ['Nourriture', 'Alimentation animale', 'Traitement', 'Autres utilisations', 'Semences'],\n",
    "           explode = [0, 0.2, 0, 0, 0],\n",
    "           autopct = lambda x: str(round(x, 2)) + '%',\n",
    "           pctdistance = 0.75, labeldistance = 1.1,\n",
    "           shadow = True)\n",
    "pyplot.legend(loc = 'best' )\n",
    "pyplot.suptitle('Répartition de la disponibilité alimentaire totale') "
   ]
  },
  {
   "cell_type": "markdown",
   "id": "9ac8a1d3",
   "metadata": {
    "id": "9ac8a1d3"
   },
   "source": [
    "### 7. les pays où la proportion de personnes sous-alimentées est la plus forte en 2017"
   ]
  },
  {
   "cell_type": "code",
   "execution_count": 64,
   "id": "76527c3e",
   "metadata": {
    "id": "76527c3e"
   },
   "outputs": [],
   "source": [
    "population_sous_alim_2017['%_sous_nutrition'] =round(population_sous_alim_2017['nb_sous_alimentés']/population_sous_alim_2017['nb_personnes']*100,2)# calcul du pourcentage  2 décimales\n",
    "population_sous_alim_2017=population_sous_alim_2017.dropna().sort_values(by='%_sous_nutrition', ascending=False)               # suppression lignes NAN et tri"
   ]
  },
  {
   "cell_type": "code",
   "execution_count": 65,
   "id": "a14ac374",
   "metadata": {
    "id": "a14ac374",
    "outputId": "bcdf52b5-3137-44f7-bf7c-c734b35efb69",
    "scrolled": true
   },
   "outputs": [
    {
     "data": {
      "text/html": [
       "<div>\n",
       "<style scoped>\n",
       "    .dataframe tbody tr th:only-of-type {\n",
       "        vertical-align: middle;\n",
       "    }\n",
       "\n",
       "    .dataframe tbody tr th {\n",
       "        vertical-align: top;\n",
       "    }\n",
       "\n",
       "    .dataframe thead th {\n",
       "        text-align: right;\n",
       "    }\n",
       "</style>\n",
       "<table border=\"1\" class=\"dataframe\">\n",
       "  <thead>\n",
       "    <tr style=\"text-align: right;\">\n",
       "      <th></th>\n",
       "      <th>Zone</th>\n",
       "      <th>Année</th>\n",
       "      <th>nb_personnes</th>\n",
       "      <th>nb_sous_alimentés</th>\n",
       "      <th>%_sous_nutrition</th>\n",
       "    </tr>\n",
       "  </thead>\n",
       "  <tbody>\n",
       "    <tr>\n",
       "      <th>87</th>\n",
       "      <td>Haïti</td>\n",
       "      <td>2017</td>\n",
       "      <td>10982366.0</td>\n",
       "      <td>5300000.0</td>\n",
       "      <td>48.26</td>\n",
       "    </tr>\n",
       "    <tr>\n",
       "      <th>181</th>\n",
       "      <td>République populaire démocratique de Corée</td>\n",
       "      <td>2017</td>\n",
       "      <td>25429825.0</td>\n",
       "      <td>12000000.0</td>\n",
       "      <td>47.19</td>\n",
       "    </tr>\n",
       "    <tr>\n",
       "      <th>128</th>\n",
       "      <td>Madagascar</td>\n",
       "      <td>2017</td>\n",
       "      <td>25570512.0</td>\n",
       "      <td>10500000.0</td>\n",
       "      <td>41.06</td>\n",
       "    </tr>\n",
       "    <tr>\n",
       "      <th>122</th>\n",
       "      <td>Libéria</td>\n",
       "      <td>2017</td>\n",
       "      <td>4702226.0</td>\n",
       "      <td>1800000.0</td>\n",
       "      <td>38.28</td>\n",
       "    </tr>\n",
       "    <tr>\n",
       "      <th>119</th>\n",
       "      <td>Lesotho</td>\n",
       "      <td>2017</td>\n",
       "      <td>2091534.0</td>\n",
       "      <td>800000.0</td>\n",
       "      <td>38.25</td>\n",
       "    </tr>\n",
       "  </tbody>\n",
       "</table>\n",
       "</div>"
      ],
      "text/plain": [
       "                                           Zone  Année  nb_personnes  \\\n",
       "87                                        Haïti   2017    10982366.0   \n",
       "181  République populaire démocratique de Corée   2017    25429825.0   \n",
       "128                                  Madagascar   2017    25570512.0   \n",
       "122                                     Libéria   2017     4702226.0   \n",
       "119                                     Lesotho   2017     2091534.0   \n",
       "\n",
       "     nb_sous_alimentés  %_sous_nutrition  \n",
       "87           5300000.0             48.26  \n",
       "181         12000000.0             47.19  \n",
       "128         10500000.0             41.06  \n",
       "122          1800000.0             38.28  \n",
       "119           800000.0             38.25  "
      ]
     },
     "execution_count": 65,
     "metadata": {},
     "output_type": "execute_result"
    }
   ],
   "source": [
    "population_sous_alim_2017.head()"
   ]
  },
  {
   "cell_type": "markdown",
   "id": "4065e74f",
   "metadata": {
    "id": "4065e74f"
   },
   "source": [
    "### 8. Production de céréales utilisée comme aliment pour Animaux Vs Nourriture"
   ]
  },
  {
   "cell_type": "code",
   "execution_count": 66,
   "id": "f2b250ab",
   "metadata": {
    "id": "f2b250ab"
   },
   "outputs": [],
   "source": [
    "dispo_alimentaire_cereale =dispo_alimentaire.loc[dispo_alimentaire['Produit'] == \\\n",
    "\"Céréales, Autres\",['Aliments pour animaux','Nourriture',\"Production\"]].sum()\n"
   ]
  },
  {
   "cell_type": "code",
   "execution_count": 67,
   "id": "61cc32d9",
   "metadata": {
    "id": "61cc32d9",
    "outputId": "27837e1b-4934-497e-b73d-0babdfcd0b76"
   },
   "outputs": [
    {
     "name": "stdout",
     "output_type": "stream",
     "text": [
      "la production mondiale de céréales réprésente 28412.0 milliers de tonnes dont :\n",
      " 19035.0 milliers de tonnes pour l'alimentation animale soit  67.0 % de la production et \n",
      " 5324.0 milliers de tonnes​ pour l'alimentation humaine soit 18.74 % de la production\n"
     ]
    }
   ],
   "source": [
    "print('la production mondiale de céréales réprésente',dispo_alimentaire_cereale[\"Production\"],\\\n",
    "'milliers de tonnes dont :\\n',dispo_alimentaire_cereale['Aliments pour animaux'],\\\n",
    "'milliers de tonnes pour l\\'alimentation animale soit ',round((dispo_alimentaire_cereale['Aliments pour animaux']/dispo_alimentaire_cereale[\"Production\"])*100,2),'% de la production et \\n',dispo_alimentaire_cereale['Nourriture'],\\\n",
    "'milliers de tonnes pour l\\'alimentation humaine soit',round((dispo_alimentaire_cereale['Nourriture']/dispo_alimentaire_cereale[\"Production\"])*100,2),'% de la production')\n"
   ]
  },
  {
   "cell_type": "markdown",
   "id": "3eceaf6a",
   "metadata": {
    "id": "3eceaf6a"
   },
   "source": [
    "### 9. Etude du cas particulier du manioc en Thaïlande"
   ]
  },
  {
   "cell_type": "code",
   "execution_count": 68,
   "id": "3e0aded3",
   "metadata": {
    "id": "3e0aded3",
    "outputId": "5e4ecc32-fb2a-4936-8d65-453d4e322551"
   },
   "outputs": [
    {
     "data": {
      "text/html": [
       "<div>\n",
       "<style scoped>\n",
       "    .dataframe tbody tr th:only-of-type {\n",
       "        vertical-align: middle;\n",
       "    }\n",
       "\n",
       "    .dataframe tbody tr th {\n",
       "        vertical-align: top;\n",
       "    }\n",
       "\n",
       "    .dataframe thead th {\n",
       "        text-align: right;\n",
       "    }\n",
       "</style>\n",
       "<table border=\"1\" class=\"dataframe\">\n",
       "  <thead>\n",
       "    <tr style=\"text-align: right;\">\n",
       "      <th></th>\n",
       "      <th>Zone</th>\n",
       "      <th>Disponibilité alimentaire (Kcal/personne/jour)</th>\n",
       "      <th>Année</th>\n",
       "      <th>Valeur</th>\n",
       "      <th>Kcal_tot_jour</th>\n",
       "    </tr>\n",
       "  </thead>\n",
       "  <tbody>\n",
       "    <tr>\n",
       "      <th>153</th>\n",
       "      <td>Thaïlande</td>\n",
       "      <td>2785.0</td>\n",
       "      <td>2017.0</td>\n",
       "      <td>69209810.0</td>\n",
       "      <td>1.927493e+11</td>\n",
       "    </tr>\n",
       "  </tbody>\n",
       "</table>\n",
       "</div>"
      ],
      "text/plain": [
       "          Zone  Disponibilité alimentaire (Kcal/personne/jour)   Année  \\\n",
       "153  Thaïlande                                          2785.0  2017.0   \n",
       "\n",
       "         Valeur  Kcal_tot_jour  \n",
       "153  69209810.0   1.927493e+11  "
      ]
     },
     "execution_count": 68,
     "metadata": {},
     "output_type": "execute_result"
    }
   ],
   "source": [
    "dispo_alimentaire_pays.loc[dispo_alimentaire_pays['Zone']=='Thaïlande',:]"
   ]
  },
  {
   "cell_type": "code",
   "execution_count": 69,
   "id": "df053bea",
   "metadata": {
    "id": "df053bea"
   },
   "outputs": [],
   "source": [
    "dispo_alimentaire_thailande_manioc=dispo_alimentaire.loc[(dispo_alimentaire['Zone'] == \\\n",
    "\"Thaïlande\")& (dispo_alimentaire['Produit'] ==\"Manioc\")]\\\n",
    "[['Zone','Produit','Production','Exportations - Quantité']]"
   ]
  },
  {
   "cell_type": "code",
   "execution_count": 70,
   "id": "060346b1",
   "metadata": {
    "id": "060346b1",
    "outputId": "4c5f46e0-ce68-4001-c19f-6ce86a17b567"
   },
   "outputs": [
    {
     "data": {
      "text/html": [
       "<div>\n",
       "<style scoped>\n",
       "    .dataframe tbody tr th:only-of-type {\n",
       "        vertical-align: middle;\n",
       "    }\n",
       "\n",
       "    .dataframe tbody tr th {\n",
       "        vertical-align: top;\n",
       "    }\n",
       "\n",
       "    .dataframe thead th {\n",
       "        text-align: right;\n",
       "    }\n",
       "</style>\n",
       "<table border=\"1\" class=\"dataframe\">\n",
       "  <thead>\n",
       "    <tr style=\"text-align: right;\">\n",
       "      <th></th>\n",
       "      <th>Zone</th>\n",
       "      <th>Produit</th>\n",
       "      <th>Production</th>\n",
       "      <th>Exportations - Quantité</th>\n",
       "    </tr>\n",
       "  </thead>\n",
       "  <tbody>\n",
       "    <tr>\n",
       "      <th>13809</th>\n",
       "      <td>Thaïlande</td>\n",
       "      <td>Manioc</td>\n",
       "      <td>30228.0</td>\n",
       "      <td>25214.0</td>\n",
       "    </tr>\n",
       "  </tbody>\n",
       "</table>\n",
       "</div>"
      ],
      "text/plain": [
       "            Zone Produit  Production  Exportations - Quantité\n",
       "13809  Thaïlande  Manioc     30228.0                  25214.0"
      ]
     },
     "execution_count": 70,
     "metadata": {},
     "output_type": "execute_result"
    }
   ],
   "source": [
    "dispo_alimentaire_thailande_manioc"
   ]
  },
  {
   "cell_type": "code",
   "execution_count": 71,
   "id": "f9549682",
   "metadata": {
    "id": "f9549682"
   },
   "outputs": [],
   "source": [
    "# besoin annuel en Kcal : nbre de personnes sous-nutrition X 365 jours X 2500 kcal (besoin énergétique moyen)\n",
    "\n",
    "nb_sous_alimentés_thailande=population_sous_alim_2017.loc[population_sous_alim_2017[\"Zone\"]==\"Thaïlande\"]['nb_sous_alimentés'].sum()"
   ]
  },
  {
   "cell_type": "code",
   "execution_count": 72,
   "id": "913deb52",
   "metadata": {
    "id": "913deb52",
    "outputId": "e3b8bf32-f3ba-4d7a-ea18-0c04087cfe41"
   },
   "outputs": [
    {
     "data": {
      "text/plain": [
       "6200000.0"
      ]
     },
     "execution_count": 72,
     "metadata": {},
     "output_type": "execute_result"
    }
   ],
   "source": [
    "nb_sous_alimentés_thailande"
   ]
  },
  {
   "cell_type": "markdown",
   "id": "049c5170",
   "metadata": {
    "id": "049c5170"
   },
   "source": [
    "#### La Thaïlande produit 30228 milliers de tonnes de manioc dont 25114 milliers partent à l exportation.Seule une petite partie ( 871 milliers de tonnes) est utilisée pour l alimentation humaine. D'autre part il y a 6.200.000 personnes en sous-nutrition.\n",
    "### Combien de personnes pourrait-on nourrir avec cette quantité de manioc ?\n",
    "100 grammes de manioc procurent 109 Kcal, 0,9 gr de protéines et 0,2 gr de lipides."
   ]
  },
  {
   "cell_type": "code",
   "execution_count": 73,
   "id": "04249dac",
   "metadata": {
    "id": "04249dac"
   },
   "outputs": [],
   "source": [
    "# multiplier par 1000 pour mettre en tonnes\n",
    "# multiplier par 1000 pour mettre en kg\n",
    "# multiplier par 1000 pour mettre en grammes\n",
    "# multiplier 1.09 pour résultat en Kcal (1gr procure 1,09 kcal)\n",
    "dispo_alimentaire_thailande_manioc['Kcal_manioc_exportation'] =\\\n",
    "dispo_alimentaire_thailande_manioc['Exportations - Quantité']*1000000000*1.09"
   ]
  },
  {
   "cell_type": "code",
   "execution_count": 74,
   "id": "b58119ef",
   "metadata": {
    "id": "b58119ef",
    "outputId": "1296c1e0-0d9e-4911-edce-08635766e929"
   },
   "outputs": [
    {
     "data": {
      "text/html": [
       "<div>\n",
       "<style scoped>\n",
       "    .dataframe tbody tr th:only-of-type {\n",
       "        vertical-align: middle;\n",
       "    }\n",
       "\n",
       "    .dataframe tbody tr th {\n",
       "        vertical-align: top;\n",
       "    }\n",
       "\n",
       "    .dataframe thead th {\n",
       "        text-align: right;\n",
       "    }\n",
       "</style>\n",
       "<table border=\"1\" class=\"dataframe\">\n",
       "  <thead>\n",
       "    <tr style=\"text-align: right;\">\n",
       "      <th></th>\n",
       "      <th>Zone</th>\n",
       "      <th>Produit</th>\n",
       "      <th>Production</th>\n",
       "      <th>Exportations - Quantité</th>\n",
       "      <th>Kcal_manioc_exportation</th>\n",
       "    </tr>\n",
       "  </thead>\n",
       "  <tbody>\n",
       "    <tr>\n",
       "      <th>13809</th>\n",
       "      <td>Thaïlande</td>\n",
       "      <td>Manioc</td>\n",
       "      <td>30228.0</td>\n",
       "      <td>25214.0</td>\n",
       "      <td>2.748326e+13</td>\n",
       "    </tr>\n",
       "  </tbody>\n",
       "</table>\n",
       "</div>"
      ],
      "text/plain": [
       "            Zone Produit  Production  Exportations - Quantité  \\\n",
       "13809  Thaïlande  Manioc     30228.0                  25214.0   \n",
       "\n",
       "       Kcal_manioc_exportation  \n",
       "13809             2.748326e+13  "
      ]
     },
     "execution_count": 74,
     "metadata": {},
     "output_type": "execute_result"
    }
   ],
   "source": [
    "dispo_alimentaire_thailande_manioc"
   ]
  },
  {
   "cell_type": "code",
   "execution_count": 75,
   "id": "e164ca14",
   "metadata": {
    "id": "e164ca14",
    "scrolled": true
   },
   "outputs": [],
   "source": [
    "Kcal_manioc_disponible =dispo_alimentaire_thailande_manioc ['Kcal_manioc_exportation'].sum()"
   ]
  },
  {
   "cell_type": "code",
   "execution_count": 76,
   "id": "7220e746",
   "metadata": {
    "id": "7220e746",
    "outputId": "4475898a-b7c5-4d24-a88e-fd5e7b520620"
   },
   "outputs": [
    {
     "name": "stdout",
     "output_type": "stream",
     "text": [
      "L'énergie du manioc Thaïlandais utilisé pour l'exportation représente 2.748e+13 Kcal\n"
     ]
    }
   ],
   "source": [
    "print('L\\'énergie du manioc Thaïlandais utilisé pour l\\'exportation représente',format(Kcal_manioc_disponible,'.3e'),'Kcal')"
   ]
  },
  {
   "cell_type": "code",
   "execution_count": 77,
   "id": "4c4bdb58",
   "metadata": {
    "id": "4c4bdb58",
    "outputId": "46e6cde7-2de0-49c4-a85a-320e57fdd1c5"
   },
   "outputs": [
    {
     "name": "stdout",
     "output_type": "stream",
     "text": [
      "Une personne a besoin de 2500 kcal par jour soit 912500 Kcal par an\n"
     ]
    }
   ],
   "source": [
    "print ('Une personne a besoin de 2500 kcal par jour soit', 2500*365,'Kcal par an')"
   ]
  },
  {
   "cell_type": "code",
   "execution_count": 78,
   "id": "f50fc0c4",
   "metadata": {
    "id": "f50fc0c4",
    "outputId": "81ec3967-b62b-4701-d11f-63cb6c9bbca7"
   },
   "outputs": [
    {
     "name": "stdout",
     "output_type": "stream",
     "text": [
      "le manioc exporté pourrait nourrir 30118641.0 personnes pendant un an soit  4.86 fois la population en sous-nutrition en Thaïlande\n"
     ]
    }
   ],
   "source": [
    "print('le manioc exporté pourrait nourrir',round (Kcal_manioc_disponible/912500,0),\"personnes pendant un an soit \",round(Kcal_manioc_disponible/(912500*nb_sous_alimentés_thailande),2),'fois la population en sous-nutrition en Thaïlande') "
   ]
  },
  {
   "cell_type": "markdown",
   "id": "c9ff9766",
   "metadata": {
    "id": "c9ff9766"
   },
   "source": [
    "### 10. Pays qui ont reçu le plus d'aide alimentaire depuis 2013."
   ]
  },
  {
   "cell_type": "code",
   "execution_count": 79,
   "id": "913c4de9",
   "metadata": {
    "id": "913c4de9",
    "outputId": "479fb9e7-0785-4516-fcad-f189232f7367",
    "scrolled": true
   },
   "outputs": [
    {
     "data": {
      "text/html": [
       "<div>\n",
       "<style scoped>\n",
       "    .dataframe tbody tr th:only-of-type {\n",
       "        vertical-align: middle;\n",
       "    }\n",
       "\n",
       "    .dataframe tbody tr th {\n",
       "        vertical-align: top;\n",
       "    }\n",
       "\n",
       "    .dataframe thead th {\n",
       "        text-align: right;\n",
       "    }\n",
       "</style>\n",
       "<table border=\"1\" class=\"dataframe\">\n",
       "  <thead>\n",
       "    <tr style=\"text-align: right;\">\n",
       "      <th></th>\n",
       "      <th>Valeur</th>\n",
       "    </tr>\n",
       "    <tr>\n",
       "      <th>Pays bénéficiaire</th>\n",
       "      <th></th>\n",
       "    </tr>\n",
       "  </thead>\n",
       "  <tbody>\n",
       "    <tr>\n",
       "      <th>République arabe syrienne</th>\n",
       "      <td>1858943</td>\n",
       "    </tr>\n",
       "    <tr>\n",
       "      <th>Éthiopie</th>\n",
       "      <td>1381294</td>\n",
       "    </tr>\n",
       "    <tr>\n",
       "      <th>Yémen</th>\n",
       "      <td>1206484</td>\n",
       "    </tr>\n",
       "    <tr>\n",
       "      <th>Soudan du Sud</th>\n",
       "      <td>695248</td>\n",
       "    </tr>\n",
       "    <tr>\n",
       "      <th>Soudan</th>\n",
       "      <td>669784</td>\n",
       "    </tr>\n",
       "    <tr>\n",
       "      <th>...</th>\n",
       "      <td>...</td>\n",
       "    </tr>\n",
       "    <tr>\n",
       "      <th>Égypte</th>\n",
       "      <td>1122</td>\n",
       "    </tr>\n",
       "    <tr>\n",
       "      <th>Vanuatu</th>\n",
       "      <td>802</td>\n",
       "    </tr>\n",
       "    <tr>\n",
       "      <th>Timor-Leste</th>\n",
       "      <td>116</td>\n",
       "    </tr>\n",
       "    <tr>\n",
       "      <th>Géorgie</th>\n",
       "      <td>70</td>\n",
       "    </tr>\n",
       "    <tr>\n",
       "      <th>Bolivie (État plurinational de)</th>\n",
       "      <td>6</td>\n",
       "    </tr>\n",
       "  </tbody>\n",
       "</table>\n",
       "<p>76 rows × 1 columns</p>\n",
       "</div>"
      ],
      "text/plain": [
       "                                  Valeur\n",
       "Pays bénéficiaire                       \n",
       "République arabe syrienne        1858943\n",
       "Éthiopie                         1381294\n",
       "Yémen                            1206484\n",
       "Soudan du Sud                     695248\n",
       "Soudan                            669784\n",
       "...                                  ...\n",
       "Égypte                              1122\n",
       "Vanuatu                              802\n",
       "Timor-Leste                          116\n",
       "Géorgie                               70\n",
       "Bolivie (État plurinational de)        6\n",
       "\n",
       "[76 rows x 1 columns]"
      ]
     },
     "execution_count": 79,
     "metadata": {},
     "output_type": "execute_result"
    }
   ],
   "source": [
    "aide_alimentaire.loc[aide_alimentaire['Année'] < 2018,['Pays bénéficiaire','Valeur']].groupby('Pays bénéficiaire').sum()[['Valeur']].sort_values(by=\"Valeur\", ascending=False)"
   ]
  },
  {
   "cell_type": "markdown",
   "id": "b7523d09",
   "metadata": {
    "id": "b7523d09"
   },
   "source": [
    "### 11. Pays qui ont le plus et le moins de disponibilité alimentaire."
   ]
  },
  {
   "cell_type": "code",
   "execution_count": 80,
   "id": "0bb7a8dd",
   "metadata": {
    "id": "0bb7a8dd",
    "outputId": "f507a4e1-7f49-438d-eff0-7a4ed4468e92"
   },
   "outputs": [
    {
     "data": {
      "text/html": [
       "<div>\n",
       "<style scoped>\n",
       "    .dataframe tbody tr th:only-of-type {\n",
       "        vertical-align: middle;\n",
       "    }\n",
       "\n",
       "    .dataframe tbody tr th {\n",
       "        vertical-align: top;\n",
       "    }\n",
       "\n",
       "    .dataframe thead th {\n",
       "        text-align: right;\n",
       "    }\n",
       "</style>\n",
       "<table border=\"1\" class=\"dataframe\">\n",
       "  <thead>\n",
       "    <tr style=\"text-align: right;\">\n",
       "      <th></th>\n",
       "      <th>Zone</th>\n",
       "      <th>Disponibilité alimentaire (Kcal/personne/jour)</th>\n",
       "    </tr>\n",
       "  </thead>\n",
       "  <tbody>\n",
       "    <tr>\n",
       "      <th>128</th>\n",
       "      <td>République centrafricaine</td>\n",
       "      <td>1879.0</td>\n",
       "    </tr>\n",
       "    <tr>\n",
       "      <th>166</th>\n",
       "      <td>Zambie</td>\n",
       "      <td>1924.0</td>\n",
       "    </tr>\n",
       "    <tr>\n",
       "      <th>91</th>\n",
       "      <td>Madagascar</td>\n",
       "      <td>2056.0</td>\n",
       "    </tr>\n",
       "    <tr>\n",
       "      <th>0</th>\n",
       "      <td>Afghanistan</td>\n",
       "      <td>2087.0</td>\n",
       "    </tr>\n",
       "    <tr>\n",
       "      <th>65</th>\n",
       "      <td>Haïti</td>\n",
       "      <td>2089.0</td>\n",
       "    </tr>\n",
       "  </tbody>\n",
       "</table>\n",
       "</div>"
      ],
      "text/plain": [
       "                          Zone  Disponibilité alimentaire (Kcal/personne/jour)\n",
       "128  République centrafricaine                                          1879.0\n",
       "166                     Zambie                                          1924.0\n",
       "91                  Madagascar                                          2056.0\n",
       "0                  Afghanistan                                          2087.0\n",
       "65                       Haïti                                          2089.0"
      ]
     },
     "execution_count": 80,
     "metadata": {},
     "output_type": "execute_result"
    }
   ],
   "source": [
    "dispo_alimentaire_pays.sort_values(by='Disponibilité alimentaire (Kcal/personne/jour)', ascending=True,)[['Zone','Disponibilité alimentaire (Kcal/personne/jour)']].head()"
   ]
  },
  {
   "cell_type": "code",
   "execution_count": 81,
   "id": "e5b80e57",
   "metadata": {
    "id": "e5b80e57",
    "outputId": "3dc5ede5-470e-4ef9-9cce-8c6c68481282"
   },
   "outputs": [
    {
     "data": {
      "text/html": [
       "<div>\n",
       "<style scoped>\n",
       "    .dataframe tbody tr th:only-of-type {\n",
       "        vertical-align: middle;\n",
       "    }\n",
       "\n",
       "    .dataframe tbody tr th {\n",
       "        vertical-align: top;\n",
       "    }\n",
       "\n",
       "    .dataframe thead th {\n",
       "        text-align: right;\n",
       "    }\n",
       "</style>\n",
       "<table border=\"1\" class=\"dataframe\">\n",
       "  <thead>\n",
       "    <tr style=\"text-align: right;\">\n",
       "      <th></th>\n",
       "      <th>Zone</th>\n",
       "      <th>Disponibilité alimentaire (Kcal/personne/jour)</th>\n",
       "    </tr>\n",
       "  </thead>\n",
       "  <tbody>\n",
       "    <tr>\n",
       "      <th>11</th>\n",
       "      <td>Autriche</td>\n",
       "      <td>3770.0</td>\n",
       "    </tr>\n",
       "    <tr>\n",
       "      <th>16</th>\n",
       "      <td>Belgique</td>\n",
       "      <td>3737.0</td>\n",
       "    </tr>\n",
       "    <tr>\n",
       "      <th>159</th>\n",
       "      <td>Turquie</td>\n",
       "      <td>3708.0</td>\n",
       "    </tr>\n",
       "    <tr>\n",
       "      <th>171</th>\n",
       "      <td>États-Unis d'Amérique</td>\n",
       "      <td>3682.0</td>\n",
       "    </tr>\n",
       "    <tr>\n",
       "      <th>74</th>\n",
       "      <td>Israël</td>\n",
       "      <td>3610.0</td>\n",
       "    </tr>\n",
       "  </tbody>\n",
       "</table>\n",
       "</div>"
      ],
      "text/plain": [
       "                      Zone  Disponibilité alimentaire (Kcal/personne/jour)\n",
       "11                Autriche                                          3770.0\n",
       "16                Belgique                                          3737.0\n",
       "159                Turquie                                          3708.0\n",
       "171  États-Unis d'Amérique                                          3682.0\n",
       "74                  Israël                                          3610.0"
      ]
     },
     "execution_count": 81,
     "metadata": {},
     "output_type": "execute_result"
    }
   ],
   "source": [
    "dispo_alimentaire_pays.sort_values(by='Disponibilité alimentaire (Kcal/personne/jour)', ascending=False,)[['Zone','Disponibilité alimentaire (Kcal/personne/jour)']].head()"
   ]
  },
  {
   "cell_type": "markdown",
   "id": "7aca5a41",
   "metadata": {
    "id": "7aca5a41"
   },
   "source": [
    " ### 11bis. Les 50  pays qui ont la plus forte disponibilité alimentaire"
   ]
  },
  {
   "cell_type": "code",
   "execution_count": 82,
   "id": "3b644598",
   "metadata": {
    "id": "3b644598"
   },
   "outputs": [],
   "source": [
    "pays_sur_alim=dispo_alimentaire_pays.nlargest(50, 'Disponibilité alimentaire (Kcal/personne/jour)')[['Zone','Disponibilité alimentaire (Kcal/personne/jour)']]"
   ]
  },
  {
   "cell_type": "code",
   "execution_count": 83,
   "id": "ffaf6b37",
   "metadata": {
    "id": "ffaf6b37",
    "outputId": "96625eff-0039-4e42-aaa2-25232bfc02b6"
   },
   "outputs": [
    {
     "data": {
      "text/html": [
       "<div>\n",
       "<style scoped>\n",
       "    .dataframe tbody tr th:only-of-type {\n",
       "        vertical-align: middle;\n",
       "    }\n",
       "\n",
       "    .dataframe tbody tr th {\n",
       "        vertical-align: top;\n",
       "    }\n",
       "\n",
       "    .dataframe thead th {\n",
       "        text-align: right;\n",
       "    }\n",
       "</style>\n",
       "<table border=\"1\" class=\"dataframe\">\n",
       "  <thead>\n",
       "    <tr style=\"text-align: right;\">\n",
       "      <th></th>\n",
       "      <th>Zone</th>\n",
       "      <th>Disponibilité alimentaire (Kcal/personne/jour)</th>\n",
       "    </tr>\n",
       "  </thead>\n",
       "  <tbody>\n",
       "    <tr>\n",
       "      <th>11</th>\n",
       "      <td>Autriche</td>\n",
       "      <td>3770.0</td>\n",
       "    </tr>\n",
       "    <tr>\n",
       "      <th>16</th>\n",
       "      <td>Belgique</td>\n",
       "      <td>3737.0</td>\n",
       "    </tr>\n",
       "    <tr>\n",
       "      <th>159</th>\n",
       "      <td>Turquie</td>\n",
       "      <td>3708.0</td>\n",
       "    </tr>\n",
       "    <tr>\n",
       "      <th>171</th>\n",
       "      <td>États-Unis d'Amérique</td>\n",
       "      <td>3682.0</td>\n",
       "    </tr>\n",
       "    <tr>\n",
       "      <th>74</th>\n",
       "      <td>Israël</td>\n",
       "      <td>3610.0</td>\n",
       "    </tr>\n",
       "    <tr>\n",
       "      <th>72</th>\n",
       "      <td>Irlande</td>\n",
       "      <td>3602.0</td>\n",
       "    </tr>\n",
       "    <tr>\n",
       "      <th>75</th>\n",
       "      <td>Italie</td>\n",
       "      <td>3578.0</td>\n",
       "    </tr>\n",
       "    <tr>\n",
       "      <th>89</th>\n",
       "      <td>Luxembourg</td>\n",
       "      <td>3540.0</td>\n",
       "    </tr>\n",
       "    <tr>\n",
       "      <th>168</th>\n",
       "      <td>Égypte</td>\n",
       "      <td>3518.0</td>\n",
       "    </tr>\n",
       "    <tr>\n",
       "      <th>4</th>\n",
       "      <td>Allemagne</td>\n",
       "      <td>3503.0</td>\n",
       "    </tr>\n",
       "  </tbody>\n",
       "</table>\n",
       "</div>"
      ],
      "text/plain": [
       "                      Zone  Disponibilité alimentaire (Kcal/personne/jour)\n",
       "11                Autriche                                          3770.0\n",
       "16                Belgique                                          3737.0\n",
       "159                Turquie                                          3708.0\n",
       "171  États-Unis d'Amérique                                          3682.0\n",
       "74                  Israël                                          3610.0\n",
       "72                 Irlande                                          3602.0\n",
       "75                  Italie                                          3578.0\n",
       "89              Luxembourg                                          3540.0\n",
       "168                 Égypte                                          3518.0\n",
       "4                Allemagne                                          3503.0"
      ]
     },
     "execution_count": 83,
     "metadata": {},
     "output_type": "execute_result"
    }
   ],
   "source": [
    "pays_sur_alim.head(10)"
   ]
  },
  {
   "cell_type": "markdown",
   "id": "7bfc0d23",
   "metadata": {
    "id": "7bfc0d23"
   },
   "source": [
    "### 11ter. Les 40 pays qui ont la plus faible disponibilité alimentaire"
   ]
  },
  {
   "cell_type": "code",
   "execution_count": 84,
   "id": "6d4e546f",
   "metadata": {
    "id": "6d4e546f"
   },
   "outputs": [],
   "source": [
    "dispo_alimentaire_pays['Zone']=dispo_alimentaire_pays['Zone'].str.title()"
   ]
  },
  {
   "cell_type": "code",
   "execution_count": 85,
   "id": "7405018a",
   "metadata": {
    "id": "7405018a"
   },
   "outputs": [],
   "source": [
    "pays_sous_alim=dispo_alimentaire_pays.nsmallest(40, 'Disponibilité alimentaire (Kcal/personne/jour)')[['Zone','Disponibilité alimentaire (Kcal/personne/jour)']]"
   ]
  },
  {
   "cell_type": "code",
   "execution_count": 86,
   "id": "a472e3d1",
   "metadata": {
    "id": "a472e3d1",
    "outputId": "2f6005b3-f485-4c98-9e47-19f281e3e686"
   },
   "outputs": [
    {
     "data": {
      "text/html": [
       "<div>\n",
       "<style scoped>\n",
       "    .dataframe tbody tr th:only-of-type {\n",
       "        vertical-align: middle;\n",
       "    }\n",
       "\n",
       "    .dataframe tbody tr th {\n",
       "        vertical-align: top;\n",
       "    }\n",
       "\n",
       "    .dataframe thead th {\n",
       "        text-align: right;\n",
       "    }\n",
       "</style>\n",
       "<table border=\"1\" class=\"dataframe\">\n",
       "  <thead>\n",
       "    <tr style=\"text-align: right;\">\n",
       "      <th></th>\n",
       "      <th>Zone</th>\n",
       "      <th>Disponibilité alimentaire (Kcal/personne/jour)</th>\n",
       "    </tr>\n",
       "  </thead>\n",
       "  <tbody>\n",
       "    <tr>\n",
       "      <th>128</th>\n",
       "      <td>République Centrafricaine</td>\n",
       "      <td>1879.0</td>\n",
       "    </tr>\n",
       "    <tr>\n",
       "      <th>166</th>\n",
       "      <td>Zambie</td>\n",
       "      <td>1924.0</td>\n",
       "    </tr>\n",
       "    <tr>\n",
       "      <th>91</th>\n",
       "      <td>Madagascar</td>\n",
       "      <td>2056.0</td>\n",
       "    </tr>\n",
       "    <tr>\n",
       "      <th>0</th>\n",
       "      <td>Afghanistan</td>\n",
       "      <td>2087.0</td>\n",
       "    </tr>\n",
       "    <tr>\n",
       "      <th>65</th>\n",
       "      <td>Haïti</td>\n",
       "      <td>2089.0</td>\n",
       "    </tr>\n",
       "    <tr>\n",
       "      <th>133</th>\n",
       "      <td>République Populaire Démocratique De Corée</td>\n",
       "      <td>2093.0</td>\n",
       "    </tr>\n",
       "    <tr>\n",
       "      <th>151</th>\n",
       "      <td>Tchad</td>\n",
       "      <td>2109.0</td>\n",
       "    </tr>\n",
       "    <tr>\n",
       "      <th>167</th>\n",
       "      <td>Zimbabwe</td>\n",
       "      <td>2113.0</td>\n",
       "    </tr>\n",
       "    <tr>\n",
       "      <th>114</th>\n",
       "      <td>Ouganda</td>\n",
       "      <td>2126.0</td>\n",
       "    </tr>\n",
       "    <tr>\n",
       "      <th>154</th>\n",
       "      <td>Timor-Leste</td>\n",
       "      <td>2129.0</td>\n",
       "    </tr>\n",
       "  </tbody>\n",
       "</table>\n",
       "</div>"
      ],
      "text/plain": [
       "                                           Zone  \\\n",
       "128                   République Centrafricaine   \n",
       "166                                      Zambie   \n",
       "91                                   Madagascar   \n",
       "0                                   Afghanistan   \n",
       "65                                        Haïti   \n",
       "133  République Populaire Démocratique De Corée   \n",
       "151                                       Tchad   \n",
       "167                                    Zimbabwe   \n",
       "114                                     Ouganda   \n",
       "154                                 Timor-Leste   \n",
       "\n",
       "     Disponibilité alimentaire (Kcal/personne/jour)  \n",
       "128                                          1879.0  \n",
       "166                                          1924.0  \n",
       "91                                           2056.0  \n",
       "0                                            2087.0  \n",
       "65                                           2089.0  \n",
       "133                                          2093.0  \n",
       "151                                          2109.0  \n",
       "167                                          2113.0  \n",
       "114                                          2126.0  \n",
       "154                                          2129.0  "
      ]
     },
     "execution_count": 86,
     "metadata": {},
     "output_type": "execute_result"
    }
   ],
   "source": [
    "pays_sous_alim.head(10)"
   ]
  },
  {
   "cell_type": "markdown",
   "id": "1ccccd8a",
   "metadata": {
    "id": "1ccccd8a"
   },
   "source": [
    "### 12 Autres informations concernant la sous-nutrition dans certains pays"
   ]
  },
  {
   "cell_type": "markdown",
   "id": "274f2bf9",
   "metadata": {
    "id": "274f2bf9"
   },
   "source": [
    "Comme la Thaïlande,de nombreux pays disposent de ressources alimentaires en quantité suffisante pour nourrir l'ensemble de leur population.Toutefois pour de multiples raisons, ces ressources sont utilisées pour d'autres usages ou mal réparties et il subsiste dans ces pays une partie de la population qui souffre de sous-nutrition malgré une disponibilite alimentaire /personne/jour supérieure au seuil fixé. "
   ]
  },
  {
   "cell_type": "code",
   "execution_count": 87,
   "id": "90b581d4",
   "metadata": {
    "id": "90b581d4"
   },
   "outputs": [],
   "source": [
    "dispo_alim_population_2017 = pd.merge(dispo_alimentaire_pays, population_sous_alim_2017, on='Zone', )\n",
    "dispo_alim_population_2017.drop(['Valeur','Année_y','Kcal_tot_jour'], axis=1, inplace=True) \n",
    "dispo_alim_population_2017.rename({ 'Disponibilité alimentaire (Kcal/personne/jour)' : 'Kcal/personne/jour','Année_x': 'année','nb_personnes':'population'}, axis=1, inplace=True)"
   ]
  },
  {
   "cell_type": "code",
   "execution_count": 88,
   "id": "4176b75a",
   "metadata": {
    "id": "4176b75a",
    "outputId": "45fc7b68-fc08-4065-9f0b-1aba7ee39ef7"
   },
   "outputs": [
    {
     "data": {
      "text/html": [
       "<div>\n",
       "<style scoped>\n",
       "    .dataframe tbody tr th:only-of-type {\n",
       "        vertical-align: middle;\n",
       "    }\n",
       "\n",
       "    .dataframe tbody tr th {\n",
       "        vertical-align: top;\n",
       "    }\n",
       "\n",
       "    .dataframe thead th {\n",
       "        text-align: right;\n",
       "    }\n",
       "</style>\n",
       "<table border=\"1\" class=\"dataframe\">\n",
       "  <thead>\n",
       "    <tr style=\"text-align: right;\">\n",
       "      <th></th>\n",
       "      <th>Zone</th>\n",
       "      <th>Kcal/personne/jour</th>\n",
       "      <th>année</th>\n",
       "      <th>population</th>\n",
       "      <th>nb_sous_alimentés</th>\n",
       "      <th>%_sous_nutrition</th>\n",
       "    </tr>\n",
       "  </thead>\n",
       "  <tbody>\n",
       "    <tr>\n",
       "      <th>34</th>\n",
       "      <td>Indonésie</td>\n",
       "      <td>2776.0</td>\n",
       "      <td>2017.0</td>\n",
       "      <td>264650963.0</td>\n",
       "      <td>23600000.0</td>\n",
       "      <td>8.92</td>\n",
       "    </tr>\n",
       "    <tr>\n",
       "      <th>57</th>\n",
       "      <td>Nigéria</td>\n",
       "      <td>2700.0</td>\n",
       "      <td>2017.0</td>\n",
       "      <td>190873244.0</td>\n",
       "      <td>22800000.0</td>\n",
       "      <td>11.95</td>\n",
       "    </tr>\n",
       "    <tr>\n",
       "      <th>65</th>\n",
       "      <td>Philippines</td>\n",
       "      <td>2568.0</td>\n",
       "      <td>2017.0</td>\n",
       "      <td>105172925.0</td>\n",
       "      <td>15700000.0</td>\n",
       "      <td>14.93</td>\n",
       "    </tr>\n",
       "    <tr>\n",
       "      <th>35</th>\n",
       "      <td>Iraq</td>\n",
       "      <td>2542.0</td>\n",
       "      <td>2017.0</td>\n",
       "      <td>37552781.0</td>\n",
       "      <td>9000000.0</td>\n",
       "      <td>23.97</td>\n",
       "    </tr>\n",
       "    <tr>\n",
       "      <th>51</th>\n",
       "      <td>Mexique</td>\n",
       "      <td>3068.0</td>\n",
       "      <td>2017.0</td>\n",
       "      <td>124777324.0</td>\n",
       "      <td>8400000.0</td>\n",
       "      <td>6.73</td>\n",
       "    </tr>\n",
       "    <tr>\n",
       "      <th>54</th>\n",
       "      <td>Myanmar</td>\n",
       "      <td>2574.0</td>\n",
       "      <td>2017.0</td>\n",
       "      <td>53382523.0</td>\n",
       "      <td>7300000.0</td>\n",
       "      <td>13.67</td>\n",
       "    </tr>\n",
       "    <tr>\n",
       "      <th>82</th>\n",
       "      <td>Viet Nam</td>\n",
       "      <td>2744.0</td>\n",
       "      <td>2017.0</td>\n",
       "      <td>94600648.0</td>\n",
       "      <td>6500000.0</td>\n",
       "      <td>6.87</td>\n",
       "    </tr>\n",
       "    <tr>\n",
       "      <th>76</th>\n",
       "      <td>Thaïlande</td>\n",
       "      <td>2785.0</td>\n",
       "      <td>2017.0</td>\n",
       "      <td>69209810.0</td>\n",
       "      <td>6200000.0</td>\n",
       "      <td>8.96</td>\n",
       "    </tr>\n",
       "    <tr>\n",
       "      <th>83</th>\n",
       "      <td>Égypte</td>\n",
       "      <td>3518.0</td>\n",
       "      <td>2017.0</td>\n",
       "      <td>96442591.0</td>\n",
       "      <td>4600000.0</td>\n",
       "      <td>4.77</td>\n",
       "    </tr>\n",
       "    <tr>\n",
       "      <th>11</th>\n",
       "      <td>Burkina Faso</td>\n",
       "      <td>2717.0</td>\n",
       "      <td>2017.0</td>\n",
       "      <td>19193234.0</td>\n",
       "      <td>3600000.0</td>\n",
       "      <td>18.76</td>\n",
       "    </tr>\n",
       "    <tr>\n",
       "      <th>18</th>\n",
       "      <td>Colombie</td>\n",
       "      <td>2800.0</td>\n",
       "      <td>2017.0</td>\n",
       "      <td>48909839.0</td>\n",
       "      <td>2700000.0</td>\n",
       "      <td>5.52</td>\n",
       "    </tr>\n",
       "    <tr>\n",
       "      <th>66</th>\n",
       "      <td>Pérou</td>\n",
       "      <td>2697.0</td>\n",
       "      <td>2017.0</td>\n",
       "      <td>31444298.0</td>\n",
       "      <td>2200000.0</td>\n",
       "      <td>7.00</td>\n",
       "    </tr>\n",
       "    <tr>\n",
       "      <th>27</th>\n",
       "      <td>Ghana</td>\n",
       "      <td>3014.0</td>\n",
       "      <td>2017.0</td>\n",
       "      <td>29121465.0</td>\n",
       "      <td>2000000.0</td>\n",
       "      <td>6.87</td>\n",
       "    </tr>\n",
       "    <tr>\n",
       "      <th>59</th>\n",
       "      <td>Népal</td>\n",
       "      <td>2672.0</td>\n",
       "      <td>2017.0</td>\n",
       "      <td>27632681.0</td>\n",
       "      <td>1700000.0</td>\n",
       "      <td>6.15</td>\n",
       "    </tr>\n",
       "    <tr>\n",
       "      <th>72</th>\n",
       "      <td>Sri Lanka</td>\n",
       "      <td>2537.0</td>\n",
       "      <td>2017.0</td>\n",
       "      <td>21128032.0</td>\n",
       "      <td>1600000.0</td>\n",
       "      <td>7.57</td>\n",
       "    </tr>\n",
       "    <tr>\n",
       "      <th>15</th>\n",
       "      <td>Cameroun</td>\n",
       "      <td>2669.0</td>\n",
       "      <td>2017.0</td>\n",
       "      <td>24566073.0</td>\n",
       "      <td>1600000.0</td>\n",
       "      <td>6.51</td>\n",
       "    </tr>\n",
       "    <tr>\n",
       "      <th>80</th>\n",
       "      <td>Ukraine</td>\n",
       "      <td>3138.0</td>\n",
       "      <td>2017.0</td>\n",
       "      <td>44487709.0</td>\n",
       "      <td>1500000.0</td>\n",
       "      <td>3.37</td>\n",
       "    </tr>\n",
       "    <tr>\n",
       "      <th>4</th>\n",
       "      <td>Argentine</td>\n",
       "      <td>3226.0</td>\n",
       "      <td>2017.0</td>\n",
       "      <td>43937140.0</td>\n",
       "      <td>1500000.0</td>\n",
       "      <td>3.41</td>\n",
       "    </tr>\n",
       "    <tr>\n",
       "      <th>48</th>\n",
       "      <td>Maroc</td>\n",
       "      <td>3402.0</td>\n",
       "      <td>2017.0</td>\n",
       "      <td>35581255.0</td>\n",
       "      <td>1400000.0</td>\n",
       "      <td>3.93</td>\n",
       "    </tr>\n",
       "    <tr>\n",
       "      <th>2</th>\n",
       "      <td>Algérie</td>\n",
       "      <td>3293.0</td>\n",
       "      <td>2017.0</td>\n",
       "      <td>41389189.0</td>\n",
       "      <td>1300000.0</td>\n",
       "      <td>3.14</td>\n",
       "    </tr>\n",
       "    <tr>\n",
       "      <th>32</th>\n",
       "      <td>Honduras</td>\n",
       "      <td>2639.0</td>\n",
       "      <td>2017.0</td>\n",
       "      <td>9429013.0</td>\n",
       "      <td>1300000.0</td>\n",
       "      <td>13.79</td>\n",
       "    </tr>\n",
       "    <tr>\n",
       "      <th>56</th>\n",
       "      <td>Nicaragua</td>\n",
       "      <td>2638.0</td>\n",
       "      <td>2017.0</td>\n",
       "      <td>6384846.0</td>\n",
       "      <td>1100000.0</td>\n",
       "      <td>17.23</td>\n",
       "    </tr>\n",
       "    <tr>\n",
       "      <th>47</th>\n",
       "      <td>Mali</td>\n",
       "      <td>2887.0</td>\n",
       "      <td>2017.0</td>\n",
       "      <td>18512430.0</td>\n",
       "      <td>1000000.0</td>\n",
       "      <td>5.40</td>\n",
       "    </tr>\n",
       "    <tr>\n",
       "      <th>45</th>\n",
       "      <td>Malaisie</td>\n",
       "      <td>2914.0</td>\n",
       "      <td>2017.0</td>\n",
       "      <td>31104646.0</td>\n",
       "      <td>1000000.0</td>\n",
       "      <td>3.21</td>\n",
       "    </tr>\n",
       "    <tr>\n",
       "      <th>61</th>\n",
       "      <td>Ouzbékistan</td>\n",
       "      <td>2759.0</td>\n",
       "      <td>2017.0</td>\n",
       "      <td>31959785.0</td>\n",
       "      <td>900000.0</td>\n",
       "      <td>2.82</td>\n",
       "    </tr>\n",
       "    <tr>\n",
       "      <th>37</th>\n",
       "      <td>Jordanie</td>\n",
       "      <td>3099.0</td>\n",
       "      <td>2017.0</td>\n",
       "      <td>9785843.0</td>\n",
       "      <td>800000.0</td>\n",
       "      <td>8.18</td>\n",
       "    </tr>\n",
       "    <tr>\n",
       "      <th>12</th>\n",
       "      <td>Bénin</td>\n",
       "      <td>2619.0</td>\n",
       "      <td>2017.0</td>\n",
       "      <td>11175198.0</td>\n",
       "      <td>800000.0</td>\n",
       "      <td>7.16</td>\n",
       "    </tr>\n",
       "    <tr>\n",
       "      <th>41</th>\n",
       "      <td>Lesotho</td>\n",
       "      <td>2528.0</td>\n",
       "      <td>2017.0</td>\n",
       "      <td>2091534.0</td>\n",
       "      <td>800000.0</td>\n",
       "      <td>38.25</td>\n",
       "    </tr>\n",
       "    <tr>\n",
       "      <th>22</th>\n",
       "      <td>El Salvador</td>\n",
       "      <td>2576.0</td>\n",
       "      <td>2017.0</td>\n",
       "      <td>6388126.0</td>\n",
       "      <td>600000.0</td>\n",
       "      <td>9.39</td>\n",
       "    </tr>\n",
       "    <tr>\n",
       "      <th>52</th>\n",
       "      <td>Mongolie</td>\n",
       "      <td>2509.0</td>\n",
       "      <td>2017.0</td>\n",
       "      <td>3113786.0</td>\n",
       "      <td>600000.0</td>\n",
       "      <td>19.27</td>\n",
       "    </tr>\n",
       "    <tr>\n",
       "      <th>16</th>\n",
       "      <td>Chili</td>\n",
       "      <td>2980.0</td>\n",
       "      <td>2017.0</td>\n",
       "      <td>18470439.0</td>\n",
       "      <td>600000.0</td>\n",
       "      <td>3.25</td>\n",
       "    </tr>\n",
       "    <tr>\n",
       "      <th>64</th>\n",
       "      <td>Paraguay</td>\n",
       "      <td>2584.0</td>\n",
       "      <td>2017.0</td>\n",
       "      <td>6867061.0</td>\n",
       "      <td>600000.0</td>\n",
       "      <td>8.74</td>\n",
       "    </tr>\n",
       "    <tr>\n",
       "      <th>50</th>\n",
       "      <td>Mauritanie</td>\n",
       "      <td>2875.0</td>\n",
       "      <td>2017.0</td>\n",
       "      <td>4282570.0</td>\n",
       "      <td>500000.0</td>\n",
       "      <td>11.68</td>\n",
       "    </tr>\n",
       "    <tr>\n",
       "      <th>42</th>\n",
       "      <td>Liban</td>\n",
       "      <td>3059.0</td>\n",
       "      <td>2017.0</td>\n",
       "      <td>6819373.0</td>\n",
       "      <td>400000.0</td>\n",
       "      <td>5.87</td>\n",
       "    </tr>\n",
       "    <tr>\n",
       "      <th>39</th>\n",
       "      <td>Kirghizistan</td>\n",
       "      <td>2817.0</td>\n",
       "      <td>2017.0</td>\n",
       "      <td>6189733.0</td>\n",
       "      <td>400000.0</td>\n",
       "      <td>6.46</td>\n",
       "    </tr>\n",
       "    <tr>\n",
       "      <th>60</th>\n",
       "      <td>Oman</td>\n",
       "      <td>3140.0</td>\n",
       "      <td>2017.0</td>\n",
       "      <td>4665928.0</td>\n",
       "      <td>400000.0</td>\n",
       "      <td>8.57</td>\n",
       "    </tr>\n",
       "    <tr>\n",
       "      <th>68</th>\n",
       "      <td>Serbie</td>\n",
       "      <td>2725.0</td>\n",
       "      <td>2017.0</td>\n",
       "      <td>8829628.0</td>\n",
       "      <td>400000.0</td>\n",
       "      <td>4.53</td>\n",
       "    </tr>\n",
       "    <tr>\n",
       "      <th>70</th>\n",
       "      <td>Slovaquie</td>\n",
       "      <td>2943.0</td>\n",
       "      <td>2017.0</td>\n",
       "      <td>5447900.0</td>\n",
       "      <td>300000.0</td>\n",
       "      <td>5.51</td>\n",
       "    </tr>\n",
       "    <tr>\n",
       "      <th>63</th>\n",
       "      <td>Panama</td>\n",
       "      <td>2731.0</td>\n",
       "      <td>2017.0</td>\n",
       "      <td>4106769.0</td>\n",
       "      <td>300000.0</td>\n",
       "      <td>7.31</td>\n",
       "    </tr>\n",
       "    <tr>\n",
       "      <th>25</th>\n",
       "      <td>Gabon</td>\n",
       "      <td>2826.0</td>\n",
       "      <td>2017.0</td>\n",
       "      <td>2064823.0</td>\n",
       "      <td>300000.0</td>\n",
       "      <td>14.53</td>\n",
       "    </tr>\n",
       "    <tr>\n",
       "      <th>26</th>\n",
       "      <td>Gambie</td>\n",
       "      <td>2621.0</td>\n",
       "      <td>2017.0</td>\n",
       "      <td>2213889.0</td>\n",
       "      <td>300000.0</td>\n",
       "      <td>13.55</td>\n",
       "    </tr>\n",
       "    <tr>\n",
       "      <th>30</th>\n",
       "      <td>Géorgie</td>\n",
       "      <td>2902.0</td>\n",
       "      <td>2017.0</td>\n",
       "      <td>4008716.0</td>\n",
       "      <td>300000.0</td>\n",
       "      <td>7.48</td>\n",
       "    </tr>\n",
       "    <tr>\n",
       "      <th>36</th>\n",
       "      <td>Jamaïque</td>\n",
       "      <td>2742.0</td>\n",
       "      <td>2017.0</td>\n",
       "      <td>2920848.0</td>\n",
       "      <td>300000.0</td>\n",
       "      <td>10.27</td>\n",
       "    </tr>\n",
       "    <tr>\n",
       "      <th>20</th>\n",
       "      <td>Costa Rica</td>\n",
       "      <td>2846.0</td>\n",
       "      <td>2017.0</td>\n",
       "      <td>4949954.0</td>\n",
       "      <td>200000.0</td>\n",
       "      <td>4.04</td>\n",
       "    </tr>\n",
       "    <tr>\n",
       "      <th>79</th>\n",
       "      <td>Turkménistan</td>\n",
       "      <td>2836.0</td>\n",
       "      <td>2017.0</td>\n",
       "      <td>5757667.0</td>\n",
       "      <td>200000.0</td>\n",
       "      <td>3.47</td>\n",
       "    </tr>\n",
       "    <tr>\n",
       "      <th>10</th>\n",
       "      <td>Bulgarie</td>\n",
       "      <td>2828.0</td>\n",
       "      <td>2017.0</td>\n",
       "      <td>7102444.0</td>\n",
       "      <td>200000.0</td>\n",
       "      <td>2.82</td>\n",
       "    </tr>\n",
       "    <tr>\n",
       "      <th>1</th>\n",
       "      <td>Albanie</td>\n",
       "      <td>3188.0</td>\n",
       "      <td>2017.0</td>\n",
       "      <td>2884169.0</td>\n",
       "      <td>100000.0</td>\n",
       "      <td>3.47</td>\n",
       "    </tr>\n",
       "  </tbody>\n",
       "</table>\n",
       "</div>"
      ],
      "text/plain": [
       "            Zone  Kcal/personne/jour   année   population  nb_sous_alimentés  \\\n",
       "34     Indonésie              2776.0  2017.0  264650963.0         23600000.0   \n",
       "57       Nigéria              2700.0  2017.0  190873244.0         22800000.0   \n",
       "65   Philippines              2568.0  2017.0  105172925.0         15700000.0   \n",
       "35          Iraq              2542.0  2017.0   37552781.0          9000000.0   \n",
       "51       Mexique              3068.0  2017.0  124777324.0          8400000.0   \n",
       "54       Myanmar              2574.0  2017.0   53382523.0          7300000.0   \n",
       "82      Viet Nam              2744.0  2017.0   94600648.0          6500000.0   \n",
       "76     Thaïlande              2785.0  2017.0   69209810.0          6200000.0   \n",
       "83        Égypte              3518.0  2017.0   96442591.0          4600000.0   \n",
       "11  Burkina Faso              2717.0  2017.0   19193234.0          3600000.0   \n",
       "18      Colombie              2800.0  2017.0   48909839.0          2700000.0   \n",
       "66         Pérou              2697.0  2017.0   31444298.0          2200000.0   \n",
       "27         Ghana              3014.0  2017.0   29121465.0          2000000.0   \n",
       "59         Népal              2672.0  2017.0   27632681.0          1700000.0   \n",
       "72     Sri Lanka              2537.0  2017.0   21128032.0          1600000.0   \n",
       "15      Cameroun              2669.0  2017.0   24566073.0          1600000.0   \n",
       "80       Ukraine              3138.0  2017.0   44487709.0          1500000.0   \n",
       "4      Argentine              3226.0  2017.0   43937140.0          1500000.0   \n",
       "48         Maroc              3402.0  2017.0   35581255.0          1400000.0   \n",
       "2        Algérie              3293.0  2017.0   41389189.0          1300000.0   \n",
       "32      Honduras              2639.0  2017.0    9429013.0          1300000.0   \n",
       "56     Nicaragua              2638.0  2017.0    6384846.0          1100000.0   \n",
       "47          Mali              2887.0  2017.0   18512430.0          1000000.0   \n",
       "45      Malaisie              2914.0  2017.0   31104646.0          1000000.0   \n",
       "61   Ouzbékistan              2759.0  2017.0   31959785.0           900000.0   \n",
       "37      Jordanie              3099.0  2017.0    9785843.0           800000.0   \n",
       "12         Bénin              2619.0  2017.0   11175198.0           800000.0   \n",
       "41       Lesotho              2528.0  2017.0    2091534.0           800000.0   \n",
       "22   El Salvador              2576.0  2017.0    6388126.0           600000.0   \n",
       "52      Mongolie              2509.0  2017.0    3113786.0           600000.0   \n",
       "16         Chili              2980.0  2017.0   18470439.0           600000.0   \n",
       "64      Paraguay              2584.0  2017.0    6867061.0           600000.0   \n",
       "50    Mauritanie              2875.0  2017.0    4282570.0           500000.0   \n",
       "42         Liban              3059.0  2017.0    6819373.0           400000.0   \n",
       "39  Kirghizistan              2817.0  2017.0    6189733.0           400000.0   \n",
       "60          Oman              3140.0  2017.0    4665928.0           400000.0   \n",
       "68        Serbie              2725.0  2017.0    8829628.0           400000.0   \n",
       "70     Slovaquie              2943.0  2017.0    5447900.0           300000.0   \n",
       "63        Panama              2731.0  2017.0    4106769.0           300000.0   \n",
       "25         Gabon              2826.0  2017.0    2064823.0           300000.0   \n",
       "26        Gambie              2621.0  2017.0    2213889.0           300000.0   \n",
       "30       Géorgie              2902.0  2017.0    4008716.0           300000.0   \n",
       "36      Jamaïque              2742.0  2017.0    2920848.0           300000.0   \n",
       "20    Costa Rica              2846.0  2017.0    4949954.0           200000.0   \n",
       "79  Turkménistan              2836.0  2017.0    5757667.0           200000.0   \n",
       "10      Bulgarie              2828.0  2017.0    7102444.0           200000.0   \n",
       "1        Albanie              3188.0  2017.0    2884169.0           100000.0   \n",
       "\n",
       "    %_sous_nutrition  \n",
       "34              8.92  \n",
       "57             11.95  \n",
       "65             14.93  \n",
       "35             23.97  \n",
       "51              6.73  \n",
       "54             13.67  \n",
       "82              6.87  \n",
       "76              8.96  \n",
       "83              4.77  \n",
       "11             18.76  \n",
       "18              5.52  \n",
       "66              7.00  \n",
       "27              6.87  \n",
       "59              6.15  \n",
       "72              7.57  \n",
       "15              6.51  \n",
       "80              3.37  \n",
       "4               3.41  \n",
       "48              3.93  \n",
       "2               3.14  \n",
       "32             13.79  \n",
       "56             17.23  \n",
       "47              5.40  \n",
       "45              3.21  \n",
       "61              2.82  \n",
       "37              8.18  \n",
       "12              7.16  \n",
       "41             38.25  \n",
       "22              9.39  \n",
       "52             19.27  \n",
       "16              3.25  \n",
       "64              8.74  \n",
       "50             11.68  \n",
       "42              5.87  \n",
       "39              6.46  \n",
       "60              8.57  \n",
       "68              4.53  \n",
       "70              5.51  \n",
       "63              7.31  \n",
       "25             14.53  \n",
       "26             13.55  \n",
       "30              7.48  \n",
       "36             10.27  \n",
       "20              4.04  \n",
       "79              3.47  \n",
       "10              2.82  \n",
       "1               3.47  "
      ]
     },
     "execution_count": 88,
     "metadata": {},
     "output_type": "execute_result"
    }
   ],
   "source": [
    "dispo_alim_population_2017=(dispo_alim_population_2017.loc[(dispo_alim_population_2017['nb_sous_alimentés']>0 )&  (dispo_alim_population_2017['Kcal/personne/jour']> 2500), :]).sort_values(by = 'nb_sous_alimentés', ascending = False)\n",
    "dispo_alim_population_2017"
   ]
  },
  {
   "cell_type": "markdown",
   "id": "2dbbdcb6",
   "metadata": {
    "id": "2dbbdcb6"
   },
   "source": [
    "### 13. carte des pays disposant des plus basses et des plus hautes disponibilités alimentaires/Habitant"
   ]
  },
  {
   "cell_type": "code",
   "execution_count": 89,
   "id": "fd3c7093",
   "metadata": {
    "id": "fd3c7093"
   },
   "outputs": [],
   "source": [
    "dispo_alimentaire_pays['Zone']=dispo_alimentaire_pays['Zone'].str.title()\n"
   ]
  },
  {
   "cell_type": "code",
   "execution_count": 90,
   "id": "96aa2d9c",
   "metadata": {
    "id": "96aa2d9c",
    "outputId": "47f3dbe6-1e4a-46c8-c3a5-0d600ad718c2"
   },
   "outputs": [
    {
     "data": {
      "text/html": [
       "<div>\n",
       "<style scoped>\n",
       "    .dataframe tbody tr th:only-of-type {\n",
       "        vertical-align: middle;\n",
       "    }\n",
       "\n",
       "    .dataframe tbody tr th {\n",
       "        vertical-align: top;\n",
       "    }\n",
       "\n",
       "    .dataframe thead th {\n",
       "        text-align: right;\n",
       "    }\n",
       "</style>\n",
       "<table border=\"1\" class=\"dataframe\">\n",
       "  <thead>\n",
       "    <tr style=\"text-align: right;\">\n",
       "      <th></th>\n",
       "      <th>Zone</th>\n",
       "      <th>Disponibilité alimentaire (Kcal/personne/jour)</th>\n",
       "      <th>Année</th>\n",
       "      <th>Valeur</th>\n",
       "      <th>Kcal_tot_jour</th>\n",
       "    </tr>\n",
       "  </thead>\n",
       "  <tbody>\n",
       "    <tr>\n",
       "      <th>0</th>\n",
       "      <td>Afghanistan</td>\n",
       "      <td>2087.0</td>\n",
       "      <td>2017.0</td>\n",
       "      <td>36296113.0</td>\n",
       "      <td>7.574999e+10</td>\n",
       "    </tr>\n",
       "    <tr>\n",
       "      <th>1</th>\n",
       "      <td>Afrique Du Sud</td>\n",
       "      <td>3020.0</td>\n",
       "      <td>2017.0</td>\n",
       "      <td>57009756.0</td>\n",
       "      <td>1.721695e+11</td>\n",
       "    </tr>\n",
       "    <tr>\n",
       "      <th>2</th>\n",
       "      <td>Albanie</td>\n",
       "      <td>3188.0</td>\n",
       "      <td>2017.0</td>\n",
       "      <td>2884169.0</td>\n",
       "      <td>9.194731e+09</td>\n",
       "    </tr>\n",
       "    <tr>\n",
       "      <th>3</th>\n",
       "      <td>Algérie</td>\n",
       "      <td>3293.0</td>\n",
       "      <td>2017.0</td>\n",
       "      <td>41389189.0</td>\n",
       "      <td>1.362946e+11</td>\n",
       "    </tr>\n",
       "    <tr>\n",
       "      <th>4</th>\n",
       "      <td>Allemagne</td>\n",
       "      <td>3503.0</td>\n",
       "      <td>2017.0</td>\n",
       "      <td>82658409.0</td>\n",
       "      <td>2.895524e+11</td>\n",
       "    </tr>\n",
       "  </tbody>\n",
       "</table>\n",
       "</div>"
      ],
      "text/plain": [
       "             Zone  Disponibilité alimentaire (Kcal/personne/jour)   Année  \\\n",
       "0     Afghanistan                                          2087.0  2017.0   \n",
       "1  Afrique Du Sud                                          3020.0  2017.0   \n",
       "2         Albanie                                          3188.0  2017.0   \n",
       "3         Algérie                                          3293.0  2017.0   \n",
       "4       Allemagne                                          3503.0  2017.0   \n",
       "\n",
       "       Valeur  Kcal_tot_jour  \n",
       "0  36296113.0   7.574999e+10  \n",
       "1  57009756.0   1.721695e+11  \n",
       "2   2884169.0   9.194731e+09  \n",
       "3  41389189.0   1.362946e+11  \n",
       "4  82658409.0   2.895524e+11  "
      ]
     },
     "execution_count": 90,
     "metadata": {},
     "output_type": "execute_result"
    }
   ],
   "source": [
    "dispo_alimentaire_pays.head()"
   ]
  },
  {
   "cell_type": "code",
   "execution_count": 93,
   "id": "06779aed",
   "metadata": {
    "id": "06779aed"
   },
   "outputs": [],
   "source": [
    "# charger un fichier avec les pays et les coordonnées longitude et latitude\n",
    "\n",
    "countries=pd.read_csv('C:\\\\Users\\\\serge\\\\OneDrive\\\\Documents\\\\Documents\\\\DATA ANALYST\\\\P4\\\\exercices\\\\countries.csv') "
   ]
  },
  {
   "cell_type": "code",
   "execution_count": null,
   "id": "6d448fe6",
   "metadata": {
    "id": "6d448fe6"
   },
   "outputs": [],
   "source": []
  },
  {
   "cell_type": "code",
   "execution_count": 94,
   "id": "b554f519",
   "metadata": {
    "id": "b554f519",
    "outputId": "18252074-9cf5-4c1e-fd17-87b86acfe427",
    "scrolled": true
   },
   "outputs": [
    {
     "data": {
      "text/html": [
       "<div>\n",
       "<style scoped>\n",
       "    .dataframe tbody tr th:only-of-type {\n",
       "        vertical-align: middle;\n",
       "    }\n",
       "\n",
       "    .dataframe tbody tr th {\n",
       "        vertical-align: top;\n",
       "    }\n",
       "\n",
       "    .dataframe thead th {\n",
       "        text-align: right;\n",
       "    }\n",
       "</style>\n",
       "<table border=\"1\" class=\"dataframe\">\n",
       "  <thead>\n",
       "    <tr style=\"text-align: right;\">\n",
       "      <th></th>\n",
       "      <th>country</th>\n",
       "      <th>latitude</th>\n",
       "      <th>longitude</th>\n",
       "      <th>name</th>\n",
       "    </tr>\n",
       "  </thead>\n",
       "  <tbody>\n",
       "    <tr>\n",
       "      <th>0</th>\n",
       "      <td>AD</td>\n",
       "      <td>42.546245</td>\n",
       "      <td>1.601554</td>\n",
       "      <td>Andorra</td>\n",
       "    </tr>\n",
       "    <tr>\n",
       "      <th>1</th>\n",
       "      <td>AE</td>\n",
       "      <td>23.424076</td>\n",
       "      <td>53.847818</td>\n",
       "      <td>United Arab Emirates</td>\n",
       "    </tr>\n",
       "    <tr>\n",
       "      <th>2</th>\n",
       "      <td>AF</td>\n",
       "      <td>33.939110</td>\n",
       "      <td>67.709953</td>\n",
       "      <td>Afghanistan</td>\n",
       "    </tr>\n",
       "    <tr>\n",
       "      <th>3</th>\n",
       "      <td>AG</td>\n",
       "      <td>17.060816</td>\n",
       "      <td>-61.796428</td>\n",
       "      <td>Antigua and Barbuda</td>\n",
       "    </tr>\n",
       "    <tr>\n",
       "      <th>4</th>\n",
       "      <td>AI</td>\n",
       "      <td>18.220554</td>\n",
       "      <td>-63.068615</td>\n",
       "      <td>Anguilla</td>\n",
       "    </tr>\n",
       "  </tbody>\n",
       "</table>\n",
       "</div>"
      ],
      "text/plain": [
       "  country   latitude  longitude                  name\n",
       "0      AD  42.546245   1.601554               Andorra\n",
       "1      AE  23.424076  53.847818  United Arab Emirates\n",
       "2      AF  33.939110  67.709953           Afghanistan\n",
       "3      AG  17.060816 -61.796428   Antigua and Barbuda\n",
       "4      AI  18.220554 -63.068615              Anguilla"
      ]
     },
     "execution_count": 94,
     "metadata": {},
     "output_type": "execute_result"
    }
   ],
   "source": [
    "countries.head(5)\n",
    "# le nom des pays est en anglais"
   ]
  },
  {
   "cell_type": "code",
   "execution_count": 96,
   "id": "e0dd83da",
   "metadata": {
    "id": "e0dd83da"
   },
   "outputs": [],
   "source": [
    "# charger un fichier avec les pays en FR , US et les codes pays\n",
    "\n",
    "pays=pd.read_csv('C:\\\\Users\\\\serge\\\\OneDrive\\\\Documents\\\\Documents\\\\DATA ANALYST\\\\P4\\\\exercices\\\\pays.csv')"
   ]
  },
  {
   "cell_type": "code",
   "execution_count": 97,
   "id": "22e7fcfd",
   "metadata": {
    "id": "22e7fcfd"
   },
   "outputs": [],
   "source": [
    "countries=countries.rename(columns={\"country\": \"alpha1\"})   # pour préparer la jointure "
   ]
  },
  {
   "cell_type": "code",
   "execution_count": 98,
   "id": "859e66b9",
   "metadata": {
    "id": "859e66b9",
    "outputId": "e73044ae-d7eb-4c63-ddd3-8d3d8458c8ff"
   },
   "outputs": [
    {
     "data": {
      "text/html": [
       "<div>\n",
       "<style scoped>\n",
       "    .dataframe tbody tr th:only-of-type {\n",
       "        vertical-align: middle;\n",
       "    }\n",
       "\n",
       "    .dataframe tbody tr th {\n",
       "        vertical-align: top;\n",
       "    }\n",
       "\n",
       "    .dataframe thead th {\n",
       "        text-align: right;\n",
       "    }\n",
       "</style>\n",
       "<table border=\"1\" class=\"dataframe\">\n",
       "  <thead>\n",
       "    <tr style=\"text-align: right;\">\n",
       "      <th></th>\n",
       "      <th>id</th>\n",
       "      <th>code</th>\n",
       "      <th>alpha1</th>\n",
       "      <th>alpha2</th>\n",
       "      <th>nom_fr</th>\n",
       "      <th>nom_us</th>\n",
       "    </tr>\n",
       "  </thead>\n",
       "  <tbody>\n",
       "    <tr>\n",
       "      <th>0</th>\n",
       "      <td>1</td>\n",
       "      <td>4</td>\n",
       "      <td>AF</td>\n",
       "      <td>AFG</td>\n",
       "      <td>Afghanistan</td>\n",
       "      <td>Afghanistan</td>\n",
       "    </tr>\n",
       "    <tr>\n",
       "      <th>1</th>\n",
       "      <td>2</td>\n",
       "      <td>8</td>\n",
       "      <td>AL</td>\n",
       "      <td>ALB</td>\n",
       "      <td>Albanie</td>\n",
       "      <td>Albania</td>\n",
       "    </tr>\n",
       "    <tr>\n",
       "      <th>2</th>\n",
       "      <td>3</td>\n",
       "      <td>10</td>\n",
       "      <td>AQ</td>\n",
       "      <td>ATA</td>\n",
       "      <td>Antarctique</td>\n",
       "      <td>Antarctica</td>\n",
       "    </tr>\n",
       "    <tr>\n",
       "      <th>3</th>\n",
       "      <td>4</td>\n",
       "      <td>12</td>\n",
       "      <td>DZ</td>\n",
       "      <td>DZA</td>\n",
       "      <td>Algérie</td>\n",
       "      <td>Algeria</td>\n",
       "    </tr>\n",
       "    <tr>\n",
       "      <th>4</th>\n",
       "      <td>5</td>\n",
       "      <td>16</td>\n",
       "      <td>AS</td>\n",
       "      <td>ASM</td>\n",
       "      <td>Samoa Américaines</td>\n",
       "      <td>American Samoa</td>\n",
       "    </tr>\n",
       "  </tbody>\n",
       "</table>\n",
       "</div>"
      ],
      "text/plain": [
       "   id  code alpha1 alpha2             nom_fr          nom_us\n",
       "0   1     4     AF    AFG        Afghanistan     Afghanistan\n",
       "1   2     8     AL    ALB            Albanie         Albania\n",
       "2   3    10     AQ    ATA        Antarctique      Antarctica\n",
       "3   4    12     DZ    DZA            Algérie         Algeria\n",
       "4   5    16     AS    ASM  Samoa Américaines  American Samoa"
      ]
     },
     "execution_count": 98,
     "metadata": {},
     "output_type": "execute_result"
    }
   ],
   "source": [
    "pays.head(5)"
   ]
  },
  {
   "cell_type": "code",
   "execution_count": 99,
   "id": "cb620727",
   "metadata": {
    "id": "cb620727"
   },
   "outputs": [],
   "source": [
    "countries_full = pd.merge(pays, countries, on='alpha1')  # jointure sur champs alpha1"
   ]
  },
  {
   "cell_type": "code",
   "execution_count": 100,
   "id": "a52f6d41",
   "metadata": {
    "id": "a52f6d41"
   },
   "outputs": [],
   "source": [
    "countries_full=countries_full.rename(columns={\"nom_fr\": \"Zone\"})   # pour préparer la jointure\n",
    "countries_full.drop('name', axis=1, inplace=True)   # retirer colonne doublon nom de pays en us"
   ]
  },
  {
   "cell_type": "code",
   "execution_count": 101,
   "id": "2a1cccf6",
   "metadata": {
    "id": "2a1cccf6"
   },
   "outputs": [],
   "source": [
    "country_rep=countries_full.loc[countries_full['alpha1']=='US', :] "
   ]
  },
  {
   "cell_type": "code",
   "execution_count": 102,
   "id": "88021bd3",
   "metadata": {
    "id": "88021bd3"
   },
   "outputs": [],
   "source": [
    "countries_full['Zone']=countries_full['Zone'].str.title()"
   ]
  },
  {
   "cell_type": "code",
   "execution_count": 103,
   "id": "a0f673d9",
   "metadata": {
    "id": "a0f673d9",
    "outputId": "0977b9c2-d22a-4fb9-bd49-1b5129178bb3"
   },
   "outputs": [
    {
     "data": {
      "text/html": [
       "<div>\n",
       "<style scoped>\n",
       "    .dataframe tbody tr th:only-of-type {\n",
       "        vertical-align: middle;\n",
       "    }\n",
       "\n",
       "    .dataframe tbody tr th {\n",
       "        vertical-align: top;\n",
       "    }\n",
       "\n",
       "    .dataframe thead th {\n",
       "        text-align: right;\n",
       "    }\n",
       "</style>\n",
       "<table border=\"1\" class=\"dataframe\">\n",
       "  <thead>\n",
       "    <tr style=\"text-align: right;\">\n",
       "      <th></th>\n",
       "      <th>id</th>\n",
       "      <th>code</th>\n",
       "      <th>alpha1</th>\n",
       "      <th>alpha2</th>\n",
       "      <th>Zone</th>\n",
       "      <th>nom_us</th>\n",
       "      <th>latitude</th>\n",
       "      <th>longitude</th>\n",
       "    </tr>\n",
       "  </thead>\n",
       "  <tbody>\n",
       "    <tr>\n",
       "      <th>0</th>\n",
       "      <td>1</td>\n",
       "      <td>4</td>\n",
       "      <td>AF</td>\n",
       "      <td>AFG</td>\n",
       "      <td>Afghanistan</td>\n",
       "      <td>Afghanistan</td>\n",
       "      <td>33.939110</td>\n",
       "      <td>67.709953</td>\n",
       "    </tr>\n",
       "    <tr>\n",
       "      <th>1</th>\n",
       "      <td>2</td>\n",
       "      <td>8</td>\n",
       "      <td>AL</td>\n",
       "      <td>ALB</td>\n",
       "      <td>Albanie</td>\n",
       "      <td>Albania</td>\n",
       "      <td>41.153332</td>\n",
       "      <td>20.168331</td>\n",
       "    </tr>\n",
       "    <tr>\n",
       "      <th>2</th>\n",
       "      <td>3</td>\n",
       "      <td>10</td>\n",
       "      <td>AQ</td>\n",
       "      <td>ATA</td>\n",
       "      <td>Antarctique</td>\n",
       "      <td>Antarctica</td>\n",
       "      <td>-75.250973</td>\n",
       "      <td>-0.071389</td>\n",
       "    </tr>\n",
       "    <tr>\n",
       "      <th>3</th>\n",
       "      <td>4</td>\n",
       "      <td>12</td>\n",
       "      <td>DZ</td>\n",
       "      <td>DZA</td>\n",
       "      <td>Algérie</td>\n",
       "      <td>Algeria</td>\n",
       "      <td>28.033886</td>\n",
       "      <td>1.659626</td>\n",
       "    </tr>\n",
       "    <tr>\n",
       "      <th>4</th>\n",
       "      <td>5</td>\n",
       "      <td>16</td>\n",
       "      <td>AS</td>\n",
       "      <td>ASM</td>\n",
       "      <td>Samoa Américaines</td>\n",
       "      <td>American Samoa</td>\n",
       "      <td>-14.270972</td>\n",
       "      <td>-170.132217</td>\n",
       "    </tr>\n",
       "  </tbody>\n",
       "</table>\n",
       "</div>"
      ],
      "text/plain": [
       "   id  code alpha1 alpha2               Zone          nom_us   latitude  \\\n",
       "0   1     4     AF    AFG        Afghanistan     Afghanistan  33.939110   \n",
       "1   2     8     AL    ALB            Albanie         Albania  41.153332   \n",
       "2   3    10     AQ    ATA        Antarctique      Antarctica -75.250973   \n",
       "3   4    12     DZ    DZA            Algérie         Algeria  28.033886   \n",
       "4   5    16     AS    ASM  Samoa Américaines  American Samoa -14.270972   \n",
       "\n",
       "    longitude  \n",
       "0   67.709953  \n",
       "1   20.168331  \n",
       "2   -0.071389  \n",
       "3    1.659626  \n",
       "4 -170.132217  "
      ]
     },
     "execution_count": 103,
     "metadata": {},
     "output_type": "execute_result"
    }
   ],
   "source": [
    "countries_full.head()"
   ]
  },
  {
   "cell_type": "code",
   "execution_count": 104,
   "id": "f16913ad",
   "metadata": {
    "id": "f16913ad"
   },
   "outputs": [],
   "source": [
    "pays_sous_alim=pd.merge(pays_sous_alim, countries_full, on='Zone') # jointure sur champs zone\n",
    "pays_sous_alim=pays_sous_alim.rename(columns={\"Disponibilité alimentaire (Kcal/personne/jour)\": \"kcal\"}) "
   ]
  },
  {
   "cell_type": "code",
   "execution_count": 105,
   "id": "b8e88039",
   "metadata": {
    "id": "b8e88039",
    "outputId": "d0a50438-1407-41dd-e7f4-68bf17f6127a",
    "scrolled": true
   },
   "outputs": [
    {
     "data": {
      "text/html": [
       "<div>\n",
       "<style scoped>\n",
       "    .dataframe tbody tr th:only-of-type {\n",
       "        vertical-align: middle;\n",
       "    }\n",
       "\n",
       "    .dataframe tbody tr th {\n",
       "        vertical-align: top;\n",
       "    }\n",
       "\n",
       "    .dataframe thead th {\n",
       "        text-align: right;\n",
       "    }\n",
       "</style>\n",
       "<table border=\"1\" class=\"dataframe\">\n",
       "  <thead>\n",
       "    <tr style=\"text-align: right;\">\n",
       "      <th></th>\n",
       "      <th>Zone</th>\n",
       "      <th>kcal</th>\n",
       "      <th>id</th>\n",
       "      <th>code</th>\n",
       "      <th>alpha1</th>\n",
       "      <th>alpha2</th>\n",
       "      <th>nom_us</th>\n",
       "      <th>latitude</th>\n",
       "      <th>longitude</th>\n",
       "    </tr>\n",
       "  </thead>\n",
       "  <tbody>\n",
       "    <tr>\n",
       "      <th>0</th>\n",
       "      <td>République Centrafricaine</td>\n",
       "      <td>1879.0</td>\n",
       "      <td>40</td>\n",
       "      <td>140</td>\n",
       "      <td>CF</td>\n",
       "      <td>CAF</td>\n",
       "      <td>Central African</td>\n",
       "      <td>6.611111</td>\n",
       "      <td>20.939444</td>\n",
       "    </tr>\n",
       "    <tr>\n",
       "      <th>1</th>\n",
       "      <td>Zambie</td>\n",
       "      <td>1924.0</td>\n",
       "      <td>241</td>\n",
       "      <td>894</td>\n",
       "      <td>ZM</td>\n",
       "      <td>ZMB</td>\n",
       "      <td>Zambia</td>\n",
       "      <td>-13.133897</td>\n",
       "      <td>27.849332</td>\n",
       "    </tr>\n",
       "    <tr>\n",
       "      <th>2</th>\n",
       "      <td>Madagascar</td>\n",
       "      <td>2056.0</td>\n",
       "      <td>130</td>\n",
       "      <td>450</td>\n",
       "      <td>MG</td>\n",
       "      <td>MDG</td>\n",
       "      <td>Madagascar</td>\n",
       "      <td>-18.766947</td>\n",
       "      <td>46.869107</td>\n",
       "    </tr>\n",
       "    <tr>\n",
       "      <th>3</th>\n",
       "      <td>Afghanistan</td>\n",
       "      <td>2087.0</td>\n",
       "      <td>1</td>\n",
       "      <td>4</td>\n",
       "      <td>AF</td>\n",
       "      <td>AFG</td>\n",
       "      <td>Afghanistan</td>\n",
       "      <td>33.939110</td>\n",
       "      <td>67.709953</td>\n",
       "    </tr>\n",
       "    <tr>\n",
       "      <th>4</th>\n",
       "      <td>Haïti</td>\n",
       "      <td>2089.0</td>\n",
       "      <td>96</td>\n",
       "      <td>332</td>\n",
       "      <td>HT</td>\n",
       "      <td>HTI</td>\n",
       "      <td>Haiti</td>\n",
       "      <td>18.971187</td>\n",
       "      <td>-72.285215</td>\n",
       "    </tr>\n",
       "  </tbody>\n",
       "</table>\n",
       "</div>"
      ],
      "text/plain": [
       "                        Zone    kcal   id  code alpha1 alpha2  \\\n",
       "0  République Centrafricaine  1879.0   40   140     CF    CAF   \n",
       "1                     Zambie  1924.0  241   894     ZM    ZMB   \n",
       "2                 Madagascar  2056.0  130   450     MG    MDG   \n",
       "3                Afghanistan  2087.0    1     4     AF    AFG   \n",
       "4                      Haïti  2089.0   96   332     HT    HTI   \n",
       "\n",
       "            nom_us   latitude  longitude  \n",
       "0  Central African   6.611111  20.939444  \n",
       "1           Zambia -13.133897  27.849332  \n",
       "2       Madagascar -18.766947  46.869107  \n",
       "3      Afghanistan  33.939110  67.709953  \n",
       "4            Haiti  18.971187 -72.285215  "
      ]
     },
     "execution_count": 105,
     "metadata": {},
     "output_type": "execute_result"
    }
   ],
   "source": [
    "pays_sous_alim.head()   # liste des pays sous-alimentés avec les coordonnées "
   ]
  },
  {
   "cell_type": "code",
   "execution_count": 106,
   "id": "b3b35993",
   "metadata": {
    "id": "b3b35993"
   },
   "outputs": [],
   "source": [
    "pays_sur_alim['Zone']=pays_sur_alim['Zone'].replace('États-Unis d\\'Amérique','États-Unis')\n",
    "pays_sur_alim=pd.merge(pays_sur_alim, countries_full, on='Zone')\n",
    "pays_sur_alim=pays_sur_alim.rename(columns={\"Disponibilité alimentaire (Kcal/personne/jour)\": \"kcal\"}) "
   ]
  },
  {
   "cell_type": "code",
   "execution_count": 107,
   "id": "8a15f743",
   "metadata": {
    "id": "8a15f743",
    "outputId": "97e07be5-ec6b-43b0-f316-ad028a4e2274"
   },
   "outputs": [
    {
     "data": {
      "text/html": [
       "<div>\n",
       "<style scoped>\n",
       "    .dataframe tbody tr th:only-of-type {\n",
       "        vertical-align: middle;\n",
       "    }\n",
       "\n",
       "    .dataframe tbody tr th {\n",
       "        vertical-align: top;\n",
       "    }\n",
       "\n",
       "    .dataframe thead th {\n",
       "        text-align: right;\n",
       "    }\n",
       "</style>\n",
       "<table border=\"1\" class=\"dataframe\">\n",
       "  <thead>\n",
       "    <tr style=\"text-align: right;\">\n",
       "      <th></th>\n",
       "      <th>Zone</th>\n",
       "      <th>kcal</th>\n",
       "      <th>id</th>\n",
       "      <th>code</th>\n",
       "      <th>alpha1</th>\n",
       "      <th>alpha2</th>\n",
       "      <th>nom_us</th>\n",
       "      <th>latitude</th>\n",
       "      <th>longitude</th>\n",
       "    </tr>\n",
       "  </thead>\n",
       "  <tbody>\n",
       "    <tr>\n",
       "      <th>3</th>\n",
       "      <td>États-Unis</td>\n",
       "      <td>3682.0</td>\n",
       "      <td>231</td>\n",
       "      <td>840</td>\n",
       "      <td>US</td>\n",
       "      <td>USA</td>\n",
       "      <td>United States</td>\n",
       "      <td>37.09024</td>\n",
       "      <td>-95.712891</td>\n",
       "    </tr>\n",
       "  </tbody>\n",
       "</table>\n",
       "</div>"
      ],
      "text/plain": [
       "         Zone    kcal   id  code alpha1 alpha2         nom_us  latitude  \\\n",
       "3  États-Unis  3682.0  231   840     US    USA  United States  37.09024   \n",
       "\n",
       "   longitude  \n",
       "3 -95.712891  "
      ]
     },
     "execution_count": 107,
     "metadata": {},
     "output_type": "execute_result"
    }
   ],
   "source": [
    "pays_sur_alim.loc[pays_sur_alim['Zone']=='États-Unis',:]"
   ]
  },
  {
   "cell_type": "code",
   "execution_count": null,
   "id": "1fd65b44",
   "metadata": {
    "id": "1fd65b44"
   },
   "outputs": [],
   "source": []
  },
  {
   "cell_type": "code",
   "execution_count": 111,
   "id": "ffadea5e",
   "metadata": {
    "id": "ffadea5e",
    "outputId": "d43c97f5-99ec-4d96-bc70-7dd652aafb05"
   },
   "outputs": [
    {
     "data": {
      "text/html": [
       "<div>\n",
       "<style scoped>\n",
       "    .dataframe tbody tr th:only-of-type {\n",
       "        vertical-align: middle;\n",
       "    }\n",
       "\n",
       "    .dataframe tbody tr th {\n",
       "        vertical-align: top;\n",
       "    }\n",
       "\n",
       "    .dataframe thead th {\n",
       "        text-align: right;\n",
       "    }\n",
       "</style>\n",
       "<table border=\"1\" class=\"dataframe\">\n",
       "  <thead>\n",
       "    <tr style=\"text-align: right;\">\n",
       "      <th></th>\n",
       "      <th>Zone</th>\n",
       "      <th>kcal</th>\n",
       "      <th>id</th>\n",
       "      <th>code</th>\n",
       "      <th>alpha1</th>\n",
       "      <th>alpha2</th>\n",
       "      <th>nom_us</th>\n",
       "      <th>latitude</th>\n",
       "      <th>longitude</th>\n",
       "    </tr>\n",
       "  </thead>\n",
       "  <tbody>\n",
       "    <tr>\n",
       "      <th>0</th>\n",
       "      <td>Autriche</td>\n",
       "      <td>3770.0</td>\n",
       "      <td>12</td>\n",
       "      <td>40</td>\n",
       "      <td>AT</td>\n",
       "      <td>AUT</td>\n",
       "      <td>Austria</td>\n",
       "      <td>47.516231</td>\n",
       "      <td>14.550072</td>\n",
       "    </tr>\n",
       "    <tr>\n",
       "      <th>1</th>\n",
       "      <td>Belgique</td>\n",
       "      <td>3737.0</td>\n",
       "      <td>18</td>\n",
       "      <td>56</td>\n",
       "      <td>BE</td>\n",
       "      <td>BEL</td>\n",
       "      <td>Belgium</td>\n",
       "      <td>50.503887</td>\n",
       "      <td>4.469936</td>\n",
       "    </tr>\n",
       "    <tr>\n",
       "      <th>2</th>\n",
       "      <td>Turquie</td>\n",
       "      <td>3708.0</td>\n",
       "      <td>220</td>\n",
       "      <td>792</td>\n",
       "      <td>TR</td>\n",
       "      <td>TUR</td>\n",
       "      <td>Turkey</td>\n",
       "      <td>38.963745</td>\n",
       "      <td>35.243322</td>\n",
       "    </tr>\n",
       "    <tr>\n",
       "      <th>3</th>\n",
       "      <td>États-Unis</td>\n",
       "      <td>3682.0</td>\n",
       "      <td>231</td>\n",
       "      <td>840</td>\n",
       "      <td>US</td>\n",
       "      <td>USA</td>\n",
       "      <td>United States</td>\n",
       "      <td>37.090240</td>\n",
       "      <td>-95.712891</td>\n",
       "    </tr>\n",
       "    <tr>\n",
       "      <th>4</th>\n",
       "      <td>Israël</td>\n",
       "      <td>3610.0</td>\n",
       "      <td>108</td>\n",
       "      <td>376</td>\n",
       "      <td>IL</td>\n",
       "      <td>ISR</td>\n",
       "      <td>Israel</td>\n",
       "      <td>31.046051</td>\n",
       "      <td>34.851612</td>\n",
       "    </tr>\n",
       "  </tbody>\n",
       "</table>\n",
       "</div>"
      ],
      "text/plain": [
       "         Zone    kcal   id  code alpha1 alpha2         nom_us   latitude  \\\n",
       "0    Autriche  3770.0   12    40     AT    AUT        Austria  47.516231   \n",
       "1    Belgique  3737.0   18    56     BE    BEL        Belgium  50.503887   \n",
       "2     Turquie  3708.0  220   792     TR    TUR         Turkey  38.963745   \n",
       "3  États-Unis  3682.0  231   840     US    USA  United States  37.090240   \n",
       "4      Israël  3610.0  108   376     IL    ISR         Israel  31.046051   \n",
       "\n",
       "   longitude  \n",
       "0  14.550072  \n",
       "1   4.469936  \n",
       "2  35.243322  \n",
       "3 -95.712891  \n",
       "4  34.851612  "
      ]
     },
     "execution_count": 111,
     "metadata": {},
     "output_type": "execute_result"
    }
   ],
   "source": [
    "pays_sur_alim.head()"
   ]
  },
  {
   "cell_type": "code",
   "execution_count": null,
   "id": "a44ea19c",
   "metadata": {
    "id": "a44ea19c"
   },
   "outputs": [],
   "source": []
  },
  {
   "cell_type": "code",
   "execution_count": 109,
   "id": "b7da4921",
   "metadata": {
    "id": "b7da4921"
   },
   "outputs": [
    {
     "ename": "ModuleNotFoundError",
     "evalue": "No module named 'folium'",
     "output_type": "error",
     "traceback": [
      "\u001b[1;31m---------------------------------------------------------------------------\u001b[0m",
      "\u001b[1;31mModuleNotFoundError\u001b[0m                       Traceback (most recent call last)",
      "\u001b[1;32m<ipython-input-109-857a508abf29>\u001b[0m in \u001b[0;36m<module>\u001b[1;34m\u001b[0m\n\u001b[1;32m----> 1\u001b[1;33m \u001b[1;32mimport\u001b[0m \u001b[0mfolium\u001b[0m\u001b[1;33m\u001b[0m\u001b[1;33m\u001b[0m\u001b[0m\n\u001b[0m\u001b[0;32m      2\u001b[0m \u001b[0mcoords\u001b[0m \u001b[1;33m=\u001b[0m \u001b[1;33m(\u001b[0m\u001b[1;36m25.539758\u001b[0m\u001b[1;33m,\u001b[0m \u001b[1;36m2.430331\u001b[0m\u001b[1;33m)\u001b[0m\u001b[1;33m\u001b[0m\u001b[1;33m\u001b[0m\u001b[0m\n\u001b[0;32m      3\u001b[0m \u001b[0mmap\u001b[0m \u001b[1;33m=\u001b[0m \u001b[0mfolium\u001b[0m\u001b[1;33m.\u001b[0m\u001b[0mMap\u001b[0m\u001b[1;33m(\u001b[0m\u001b[0mlocation\u001b[0m\u001b[1;33m=\u001b[0m\u001b[0mcoords\u001b[0m\u001b[1;33m,\u001b[0m \u001b[0mtiles\u001b[0m\u001b[1;33m=\u001b[0m\u001b[1;34m' CartoDB positron'\u001b[0m\u001b[1;33m,\u001b[0m \u001b[0mzoom_start\u001b[0m\u001b[1;33m=\u001b[0m\u001b[1;36m2\u001b[0m\u001b[1;33m)\u001b[0m\u001b[1;33m\u001b[0m\u001b[1;33m\u001b[0m\u001b[0m\n",
      "\u001b[1;31mModuleNotFoundError\u001b[0m: No module named 'folium'"
     ]
    }
   ],
   "source": [
    "import folium\n",
    "coords = (25.539758, 2.430331)\n",
    "map = folium.Map(location=coords, tiles=' CartoDB positron', zoom_start=2)  \n"
   ]
  },
  {
   "cell_type": "code",
   "execution_count": 110,
   "id": "2d67945e",
   "metadata": {
    "id": "2d67945e",
    "outputId": "c57330f2-d5af-4397-ba73-1b43bdcdae85",
    "scrolled": true
   },
   "outputs": [
    {
     "ename": "NameError",
     "evalue": "name 'folium' is not defined",
     "output_type": "error",
     "traceback": [
      "\u001b[1;31m---------------------------------------------------------------------------\u001b[0m",
      "\u001b[1;31mNameError\u001b[0m                                 Traceback (most recent call last)",
      "\u001b[1;32m<ipython-input-110-46d2aaab24ee>\u001b[0m in \u001b[0;36m<module>\u001b[1;34m\u001b[0m\n\u001b[0;32m      1\u001b[0m \u001b[1;32mfor\u001b[0m \u001b[0mi\u001b[0m \u001b[1;32min\u001b[0m \u001b[0mrange\u001b[0m\u001b[1;33m(\u001b[0m\u001b[0mlen\u001b[0m\u001b[1;33m(\u001b[0m\u001b[0mpays_sous_alim\u001b[0m\u001b[1;33m[\u001b[0m\u001b[1;34m'Zone'\u001b[0m\u001b[1;33m]\u001b[0m\u001b[1;33m)\u001b[0m\u001b[1;33m)\u001b[0m\u001b[1;33m:\u001b[0m\u001b[1;33m\u001b[0m\u001b[1;33m\u001b[0m\u001b[0m\n\u001b[1;32m----> 2\u001b[1;33m     folium.Marker(\n\u001b[0m\u001b[0;32m      3\u001b[0m         \u001b[0mlocation\u001b[0m \u001b[1;33m=\u001b[0m \u001b[1;33m(\u001b[0m\u001b[0mpays_sous_alim\u001b[0m\u001b[1;33m[\u001b[0m\u001b[1;34m'latitude'\u001b[0m\u001b[1;33m]\u001b[0m\u001b[1;33m[\u001b[0m\u001b[0mi\u001b[0m\u001b[1;33m]\u001b[0m\u001b[1;33m,\u001b[0m \u001b[0mpays_sous_alim\u001b[0m\u001b[1;33m[\u001b[0m\u001b[1;34m'longitude'\u001b[0m\u001b[1;33m]\u001b[0m\u001b[1;33m[\u001b[0m\u001b[0mi\u001b[0m\u001b[1;33m]\u001b[0m\u001b[1;33m)\u001b[0m\u001b[1;33m,\u001b[0m\u001b[1;33m\u001b[0m\u001b[1;33m\u001b[0m\u001b[0m\n\u001b[0;32m      4\u001b[0m         \u001b[0mpopup\u001b[0m\u001b[1;33m=\u001b[0m\u001b[0mpays_sous_alim\u001b[0m\u001b[1;33m[\u001b[0m\u001b[1;34m'kcal'\u001b[0m\u001b[1;33m]\u001b[0m\u001b[1;33m[\u001b[0m\u001b[0mi\u001b[0m\u001b[1;33m]\u001b[0m\u001b[1;33m,\u001b[0m\u001b[1;33m\u001b[0m\u001b[1;33m\u001b[0m\u001b[0m\n\u001b[0;32m      5\u001b[0m         \u001b[0mmin_zoom\u001b[0m\u001b[1;33m=\u001b[0m\u001b[1;36m2\u001b[0m\u001b[1;33m,\u001b[0m\u001b[1;33m\u001b[0m\u001b[1;33m\u001b[0m\u001b[0m\n",
      "\u001b[1;31mNameError\u001b[0m: name 'folium' is not defined"
     ]
    }
   ],
   "source": [
    "\n",
    "for i in range(len(pays_sous_alim['Zone'])):\n",
    "    folium.Marker(\n",
    "        location = (pays_sous_alim['latitude'][i], pays_sous_alim['longitude'][i]),\n",
    "        popup=pays_sous_alim['kcal'][i],\n",
    "        min_zoom=2,\n",
    "        max_zoom=4,\n",
    "        icon=folium.Icon(color=\"red\", icon=\"info-sign\"),\n",
    " ).add_to(map)\n",
    "for i in range(len(pays_sur_alim['Zone'])):\n",
    "    folium.Marker(\n",
    "        location = (pays_sur_alim['latitude'][i], pays_sur_alim['longitude'][i]),\n",
    "        popup=pays_sur_alim['kcal'][i],\n",
    "        min_zoom=2,\n",
    "        max_zoom=4,\n",
    "        icon=folium.Icon(color=\"green\", icon=\"info-sign\"),\n",
    ").add_to(map)        \n",
    "        \n",
    "\n",
    "map.save(outfile='map.html')   #sauver dans un fichier htlm\n",
    "map"
   ]
  },
  {
   "cell_type": "code",
   "execution_count": null,
   "id": "b80bb15b",
   "metadata": {
    "id": "b80bb15b"
   },
   "outputs": [],
   "source": []
  },
  {
   "cell_type": "code",
   "execution_count": null,
   "id": "7b2c5bce",
   "metadata": {
    "id": "7b2c5bce"
   },
   "outputs": [],
   "source": []
  }
 ],
 "metadata": {
  "celltoolbar": "Format de la Cellule Texte Brut",
  "colab": {
   "collapsed_sections": [
    "c7cdf1ea",
    "9c68b02c",
    "5d602c20",
    "610c36fa",
    "00feb059",
    "5ea3d5ba",
    "c2002d76",
    "6d42d679",
    "9ac8a1d3",
    "4065e74f",
    "3eceaf6a",
    "049c5170",
    "c9ff9766",
    "b7523d09",
    "7aca5a41",
    "1ccccd8a"
   ],
   "name": "P4.ipynb",
   "provenance": []
  },
  "kernelspec": {
   "display_name": "Python 3 (ipykernel)",
   "language": "python",
   "name": "python3"
  },
  "language_info": {
   "codemirror_mode": {
    "name": "ipython",
    "version": 3
   },
   "file_extension": ".py",
   "mimetype": "text/x-python",
   "name": "python",
   "nbconvert_exporter": "python",
   "pygments_lexer": "ipython3",
   "version": "3.11.4"
  },
  "toc": {
   "base_numbering": 1,
   "nav_menu": {},
   "number_sections": true,
   "sideBar": true,
   "skip_h1_title": false,
   "title_cell": "Table of Contents",
   "title_sidebar": "Contents",
   "toc_cell": false,
   "toc_position": {},
   "toc_section_display": true,
   "toc_window_display": true
  }
 },
 "nbformat": 4,
 "nbformat_minor": 5
}
